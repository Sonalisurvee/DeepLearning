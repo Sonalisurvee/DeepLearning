{
 "cells": [
  {
   "cell_type": "code",
   "execution_count": 1,
   "id": "429a1e93-51a0-4b99-aa11-a8c7e6476a4e",
   "metadata": {},
   "outputs": [],
   "source": [
    "from keras import Sequential\n",
    "from keras.layers import Dense,SimpleRNN"
   ]
  },
  {
   "cell_type": "code",
   "execution_count": 2,
   "id": "72a38324-11c5-41e0-8325-3b7635dd215a",
   "metadata": {},
   "outputs": [
    {
     "name": "stdout",
     "output_type": "stream",
     "text": [
      "Model: \"sequential\"\n",
      "_________________________________________________________________\n",
      " Layer (type)                Output Shape              Param #   \n",
      "=================================================================\n",
      " simple_rnn (SimpleRNN)      (None, 3)                 27        \n",
      "                                                                 \n",
      " dense (Dense)               (None, 1)                 4         \n",
      "                                                                 \n",
      "=================================================================\n",
      "Total params: 31 (124.00 Byte)\n",
      "Trainable params: 31 (124.00 Byte)\n",
      "Non-trainable params: 0 (0.00 Byte)\n",
      "_________________________________________________________________\n"
     ]
    }
   ],
   "source": [
    "model = Sequential()\n",
    "\n",
    "model.add(SimpleRNN(3,input_shape = (4,5)))\n",
    "model.add(Dense(1,activation='sigmoid'))\n",
    "\n",
    "model.summary()"
   ]
  },
  {
   "cell_type": "markdown",
   "id": "04598847-1cf5-493e-9c8b-9a37709d41c3",
   "metadata": {},
   "source": [
    "1st layer is simplernn layer with 3 nodes with shape of 4 x 5, 4 is timestep and 5 is the input feature\n",
    "2nd layer is dense with 1 node and sigmoid activation fun as we r working with binary classification."
   ]
  },
  {
   "cell_type": "code",
   "execution_count": 3,
   "id": "19c67233-77a4-48e0-a180-728020460a38",
   "metadata": {},
   "outputs": [
    {
     "name": "stdout",
     "output_type": "stream",
     "text": [
      "(5, 3)\n"
     ]
    },
    {
     "data": {
      "text/plain": [
       "array([[-0.818894  ,  0.26867634,  0.6222369 ],\n",
       "       [ 0.46040207, -0.00946426,  0.39471847],\n",
       "       [ 0.8367111 ,  0.6146503 ,  0.7708829 ],\n",
       "       [ 0.80571467, -0.79944   ,  0.05096644],\n",
       "       [ 0.5569094 ,  0.38382953,  0.3869558 ]], dtype=float32)"
      ]
     },
     "execution_count": 3,
     "metadata": {},
     "output_type": "execute_result"
    }
   ],
   "source": [
    "print(model.get_weights()[0].shape)\n",
    "model.get_weights()[0]\n",
    "\n",
    "# (5 x 3) - are the weights between input and the simpleRNN"
   ]
  },
  {
   "cell_type": "code",
   "execution_count": 4,
   "id": "5bc08eaf-239c-4903-8492-3cf0a1b8ab39",
   "metadata": {},
   "outputs": [
    {
     "name": "stdout",
     "output_type": "stream",
     "text": [
      "(3, 3)\n"
     ]
    },
    {
     "data": {
      "text/plain": [
       "array([[ 0.21358585, -0.19149595, -0.95797205],\n",
       "       [-0.47203606,  0.8383032 , -0.27281788],\n",
       "       [ 0.85531455,  0.5104674 ,  0.08865672]], dtype=float32)"
      ]
     },
     "execution_count": 4,
     "metadata": {},
     "output_type": "execute_result"
    }
   ],
   "source": [
    "print(model.get_weights()[1].shape)\n",
    "model.get_weights()[1]\n",
    "\n",
    "# (3 x 3) - are the weights of feedback connection (hidden layer to itself)"
   ]
  },
  {
   "cell_type": "code",
   "execution_count": 5,
   "id": "65f25836-6073-424c-9e0a-f6c4978c9261",
   "metadata": {},
   "outputs": [
    {
     "name": "stdout",
     "output_type": "stream",
     "text": [
      "(3,)\n"
     ]
    },
    {
     "data": {
      "text/plain": [
       "array([0., 0., 0.], dtype=float32)"
      ]
     },
     "execution_count": 5,
     "metadata": {},
     "output_type": "execute_result"
    }
   ],
   "source": [
    "print(model.get_weights()[2].shape)\n",
    "model.get_weights()[2]\n",
    "\n",
    "# (3,) - are the bias  of each node in hidden lay "
   ]
  },
  {
   "cell_type": "code",
   "execution_count": 6,
   "id": "ad7317a3-d986-4750-a485-ba7ee4698b61",
   "metadata": {},
   "outputs": [
    {
     "name": "stdout",
     "output_type": "stream",
     "text": [
      "(3, 1)\n"
     ]
    },
    {
     "data": {
      "text/plain": [
       "array([[-0.11101007],\n",
       "       [-0.8581146 ],\n",
       "       [-1.1817056 ]], dtype=float32)"
      ]
     },
     "execution_count": 6,
     "metadata": {},
     "output_type": "execute_result"
    }
   ],
   "source": [
    "print(model.get_weights()[3].shape)\n",
    "model.get_weights()[3]\n",
    "\n",
    "# (3 x 1) - are the weigts  connected with the output and simpleRNN"
   ]
  },
  {
   "cell_type": "code",
   "execution_count": 7,
   "id": "56452dab-fef4-425a-84ca-4c1261fa469e",
   "metadata": {},
   "outputs": [
    {
     "name": "stdout",
     "output_type": "stream",
     "text": [
      "(1,)\n"
     ]
    },
    {
     "data": {
      "text/plain": [
       "array([0.], dtype=float32)"
      ]
     },
     "execution_count": 7,
     "metadata": {},
     "output_type": "execute_result"
    }
   ],
   "source": [
    "print(model.get_weights()[4].shape)\n",
    "model.get_weights()[4]\n",
    "\n",
    "# (1,) - single bias out output node"
   ]
  },
  {
   "cell_type": "code",
   "execution_count": null,
   "id": "152965c2-9ac3-45f5-bc7f-845a47335b72",
   "metadata": {},
   "outputs": [],
   "source": []
  }
 ],
 "metadata": {
  "kernelspec": {
   "display_name": "virtualenv",
   "language": "python",
   "name": "virtualenv"
  },
  "language_info": {
   "codemirror_mode": {
    "name": "ipython",
    "version": 3
   },
   "file_extension": ".py",
   "mimetype": "text/x-python",
   "name": "python",
   "nbconvert_exporter": "python",
   "pygments_lexer": "ipython3",
   "version": "3.11.5"
  }
 },
 "nbformat": 4,
 "nbformat_minor": 5
}
