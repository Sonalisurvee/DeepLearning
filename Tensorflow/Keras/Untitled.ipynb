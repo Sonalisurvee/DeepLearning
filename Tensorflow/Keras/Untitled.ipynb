{
 "cells": [
  {
   "cell_type": "code",
   "execution_count": 9,
   "id": "eade9bf0-e6ee-484b-8e0a-35c5c64176a3",
   "metadata": {},
   "outputs": [],
   "source": [
    "import numpy as np\n",
    "import matplotlib.pyplot as plt\n",
    "from keras.datasets import mnist\n",
    "from keras.models import Sequential\n",
    "from keras.layers import Dense,Flatten\n"
   ]
  },
  {
   "cell_type": "code",
   "execution_count": 10,
   "id": "dc99491c-4a3a-4653-a747-38319b478d12",
   "metadata": {},
   "outputs": [],
   "source": [
    "(x_train, y_train), (x_test, y_test) = mnist.load_data()\n"
   ]
  },
  {
   "cell_type": "code",
   "execution_count": 13,
   "id": "567b9bea-c6fa-422f-bfa6-b3e4db12c377",
   "metadata": {},
   "outputs": [
    {
     "data": {
      "text/plain": [
       "(60000, 28, 28)"
      ]
     },
     "execution_count": 13,
     "metadata": {},
     "output_type": "execute_result"
    }
   ],
   "source": [
    "\n",
    "x_train.shape"
   ]
  },
  {
   "cell_type": "code",
   "execution_count": 14,
   "id": "53ed3c2a-cc3a-424d-ac22-eee048eb5efb",
   "metadata": {},
   "outputs": [
    {
     "data": {
      "text/plain": [
       "(60000,)"
      ]
     },
     "execution_count": 14,
     "metadata": {},
     "output_type": "execute_result"
    }
   ],
   "source": [
    "y_train.shape"
   ]
  },
  {
   "cell_type": "code",
   "execution_count": 17,
   "id": "b619ff94-c0b2-4d90-bef4-a2c2159f8860",
   "metadata": {},
   "outputs": [
    {
     "data": {
      "text/plain": [
       "(10000, 28, 28)"
      ]
     },
     "execution_count": 17,
     "metadata": {},
     "output_type": "execute_result"
    }
   ],
   "source": [
    "x_test.shape"
   ]
  },
  {
   "cell_type": "code",
   "execution_count": 15,
   "id": "6ea08aa0-06e8-4c63-aa37-058a23231868",
   "metadata": {},
   "outputs": [
    {
     "data": {
      "text/plain": [
       "60000"
      ]
     },
     "execution_count": 15,
     "metadata": {},
     "output_type": "execute_result"
    }
   ],
   "source": [
    "x_train.shape[0]"
   ]
  },
  {
   "cell_type": "code",
   "execution_count": 16,
   "id": "8fb0349b-46bb-4a3f-86b8-f440761a7429",
   "metadata": {},
   "outputs": [
    {
     "data": {
      "text/plain": [
       "(60000, 784)"
      ]
     },
     "execution_count": 16,
     "metadata": {},
     "output_type": "execute_result"
    }
   ],
   "source": [
    "# flattened 1D input (e.g., for MNIST data). However, you're passing data with a \n",
    "# shape of (32, 28, 28), which corresponds to 2D image data with dimensions 28x28.\n",
    "# This shape is not compatible with the model's expectations.\n",
    "\n",
    "# Flatten the input data: Since your model expects flattened data (784 dimensions),\n",
    "# you should flatten the 2D images into 1D arrays.\n",
    "\n",
    "# Normalize the pixel values: Ensure that the pixel values of your input data are \n",
    "# normalized to the range [0, 1].\n",
    "\n",
    "# Flatten the training data\n",
    "\n",
    "x_train = x_train.reshape(-1, 784)  # Flatten the training data\n",
    "x_train.shape\n",
    "\n",
    "# (60000, 28, 28)\n",
    "# (60000, 784)"
   ]
  },
  {
   "cell_type": "code",
   "execution_count": 19,
   "id": "2de2ba7c-7922-4dee-86b7-85563652ce1f",
   "metadata": {},
   "outputs": [
    {
     "data": {
      "text/plain": [
       "(10000, 784)"
      ]
     },
     "execution_count": 19,
     "metadata": {},
     "output_type": "execute_result"
    }
   ],
   "source": [
    "x_test = x_test.reshape((x_test.shape[0],28*28))\n",
    "x_test.shape\n",
    "\n",
    "# (10000, 28, 28)\n",
    "# (10000, 784)"
   ]
  },
  {
   "cell_type": "code",
   "execution_count": 20,
   "id": "1b8faa5a-0065-4bc5-93ca-c4a19051394e",
   "metadata": {},
   "outputs": [],
   "source": [
    "# Normalize pixel values\n",
    "x_train = x_train.astype('float32') / 255.0  \n",
    "x_test = x_test.astype('float32') / 255.0  \n",
    "\n",
    "# x_train.dtype - dtype('uint8') -before\n",
    "# x_train.dtype - dtype('float32') -after"
   ]
  },
  {
   "cell_type": "code",
   "execution_count": 25,
   "id": "91eb99ce-1ba1-46d2-b6e3-c34d876f3556",
   "metadata": {},
   "outputs": [],
   "source": [
    "    # ValueError: Shapes (32, 1) and (32, 10) are incompatible\n",
    "# to solve thisi did ohe \n",
    "\n",
    "\n",
    "from keras.utils import to_categorical\n",
    "\n",
    "# One-hot encode the labels\n",
    "y_train_encoded = to_categorical(y_train, num_classes=10)\n",
    "y_test_encoded = to_categorical(y_test, num_classes=10)\n"
   ]
  },
  {
   "cell_type": "code",
   "execution_count": 36,
   "id": "b80d312d-ce3d-4aa9-9e30-c48e3ea54c37",
   "metadata": {},
   "outputs": [],
   "source": [
    "model = Sequential()\n",
    "model.add(Dense(128, activation='relu', input_shape=(784,)))\n",
    "model.add(Dense(64, activation='relu'))\n",
    "model.add(Dense(10, activation='softmax'))  # Output layer with 10 units for 10 classes\n"
   ]
  },
  {
   "cell_type": "code",
   "execution_count": 37,
   "id": "bf3ba8cb-7d95-4f92-bdfe-66f8790ad1e5",
   "metadata": {},
   "outputs": [
    {
     "name": "stdout",
     "output_type": "stream",
     "text": [
      "Epoch 1/10\n",
      "1875/1875 [==============================] - 9s 4ms/step - loss: 0.2397 - accuracy: 0.9292 - val_loss: 0.1294 - val_accuracy: 0.9600\n",
      "Epoch 2/10\n",
      "1875/1875 [==============================] - 7s 4ms/step - loss: 0.0997 - accuracy: 0.9692 - val_loss: 0.0957 - val_accuracy: 0.9699\n",
      "Epoch 3/10\n",
      "1875/1875 [==============================] - 8s 4ms/step - loss: 0.0707 - accuracy: 0.9782 - val_loss: 0.0812 - val_accuracy: 0.9752\n",
      "Epoch 4/10\n",
      "1875/1875 [==============================] - 8s 4ms/step - loss: 0.0534 - accuracy: 0.9827 - val_loss: 0.0821 - val_accuracy: 0.9759\n",
      "Epoch 5/10\n",
      "1875/1875 [==============================] - 8s 4ms/step - loss: 0.0415 - accuracy: 0.9866 - val_loss: 0.0948 - val_accuracy: 0.9721\n",
      "Epoch 6/10\n",
      "1875/1875 [==============================] - 8s 4ms/step - loss: 0.0347 - accuracy: 0.9888 - val_loss: 0.0743 - val_accuracy: 0.9786\n",
      "Epoch 7/10\n",
      "1875/1875 [==============================] - 8s 4ms/step - loss: 0.0279 - accuracy: 0.9909 - val_loss: 0.0953 - val_accuracy: 0.9748\n",
      "Epoch 8/10\n",
      "1875/1875 [==============================] - 8s 4ms/step - loss: 0.0246 - accuracy: 0.9916 - val_loss: 0.0885 - val_accuracy: 0.9771\n",
      "Epoch 9/10\n",
      "1875/1875 [==============================] - 8s 4ms/step - loss: 0.0228 - accuracy: 0.9922 - val_loss: 0.0999 - val_accuracy: 0.9755\n",
      "Epoch 10/10\n",
      "1875/1875 [==============================] - 8s 4ms/step - loss: 0.0191 - accuracy: 0.9937 - val_loss: 0.0954 - val_accuracy: 0.9760\n"
     ]
    },
    {
     "data": {
      "text/plain": [
       "<keras.src.callbacks.History at 0x1c1cbd2e150>"
      ]
     },
     "execution_count": 37,
     "metadata": {},
     "output_type": "execute_result"
    }
   ],
   "source": [
    "# Compile the model\n",
    "model.compile(optimizer='adam', loss='categorical_crossentropy', metrics=['accuracy'])\n",
    "\n",
    "# Train the model\n",
    "model.fit(x_train, y_train_encoded, epochs=10, batch_size=32, validation_data=(x_test, y_test_encoded))\n"
   ]
  },
  {
   "cell_type": "code",
   "execution_count": 39,
   "id": "cd10269c-e13c-4591-b07a-46433a31d8be",
   "metadata": {},
   "outputs": [
    {
     "name": "stdout",
     "output_type": "stream",
     "text": [
      "313/313 [==============================] - 1s 3ms/step - loss: 0.0954 - accuracy: 0.9760\n",
      "Test Loss: 0.09541519731283188, Test Accuracy: 0.9760000109672546\n"
     ]
    }
   ],
   "source": [
    "\n",
    "# # Evaluate the model\n",
    "# test_loss, test_accuracy = model.evaluate(x_test, y_test)\n",
    "# print(f\"Test Loss: {test_loss}, Test Accuracy: {test_accuracy}\")\n",
    "#     ValueError: Shapes (None, 1) and (None, 10) are incompatible\n",
    "\n",
    "\n",
    "test_loss, test_accuracy = model.evaluate(x_test, y_test_encoded)\n",
    "print(f\"Test Loss: {test_loss}, Test Accuracy: {test_accuracy}\")"
   ]
  },
  {
   "cell_type": "code",
   "execution_count": null,
   "id": "4d861bc0-dc65-4a51-afaf-6dd37251f693",
   "metadata": {},
   "outputs": [],
   "source": []
  }
 ],
 "metadata": {
  "kernelspec": {
   "display_name": "virtualenv",
   "language": "python",
   "name": "virtualenv"
  },
  "language_info": {
   "codemirror_mode": {
    "name": "ipython",
    "version": 3
   },
   "file_extension": ".py",
   "mimetype": "text/x-python",
   "name": "python",
   "nbconvert_exporter": "python",
   "pygments_lexer": "ipython3",
   "version": "3.11.5"
  }
 },
 "nbformat": 4,
 "nbformat_minor": 5
}
