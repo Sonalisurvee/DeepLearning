{
 "cells": [
  {
   "cell_type": "code",
   "execution_count": 1,
   "id": "d4a6a6be-e079-4419-9beb-338ab9766903",
   "metadata": {},
   "outputs": [],
   "source": [
    "from keras import models\n",
    "from keras.layers import Dense ,Dropout\n",
    "from keras.utils import to_categorical\n",
    "from keras.datasets import mnist\n",
    "from IPython.display import SVG\n",
    "from keras.utils import model_to_dot\n",
    "from keras.utils import plot_model\n",
    "import numpy as np\n",
    "\n",
    "# mnist - its a dataset of handwrite numbres fro 0 to 9"
   ]
  },
  {
   "cell_type": "code",
   "execution_count": 2,
   "id": "895596d6-1936-4e9d-9d98-b8725c56e966",
   "metadata": {},
   "outputs": [],
   "source": [
    "import livelossplot\n",
    "plot_losses = livelossplot.PlotLossesKeras()\n",
    "\n",
    "%matplotlib inline\n",
    "\n",
    "NUM_ROWS = 28\n",
    "NUM_COLS = 28\n",
    "NUM_CLASSES = 10\n",
    "BATCH_SIZE = 128\n",
    "EPOCHS = 10\n",
    "\n",
    "# livelosspolt - used to visualiztion the live training model,like how error is decre and accuracy incres"
   ]
  },
  {
   "cell_type": "code",
   "execution_count": 3,
   "id": "1a54407e-f4b6-41a1-9b62-1130c9b3d9e1",
   "metadata": {},
   "outputs": [],
   "source": [
    "# pip install livelossplot\n"
   ]
  },
  {
   "cell_type": "code",
   "execution_count": 3,
   "id": "4791ec89-4c6e-4fa2-badf-f95e01c873c4",
   "metadata": {},
   "outputs": [],
   "source": [
    "def data_summary(x_train,y_train,x_test,y_test):\n",
    "    \"\"\"Summarize current state of dataset\"\"\"\n",
    "    print(\"Train images shape : \" , x_train.shape)\n",
    "    print(\"Train labels shape : \" , y_train.shape)\n",
    "    print(\"Test images shape : \" , x_test.shape)\n",
    "    print(\"Test labels shape : \" , y_test.shape)\n",
    "    print(\"Train labels : \" , y_train)\n",
    "    print(\"Test labels : \" , y_test)"
   ]
  },
  {
   "cell_type": "code",
   "execution_count": 10,
   "id": "7f13ec3b-09c6-444e-9ce5-cee03420c27c",
   "metadata": {},
   "outputs": [
    {
     "name": "stdout",
     "output_type": "stream",
     "text": [
      "Train images shape :  (60000, 28, 28)\n",
      "Train labels shape :  (60000,)\n",
      "Test images shape :  (10000, 28, 28)\n",
      "Test labels shape :  (10000,)\n",
      "Train labels :  [5 0 4 ... 5 6 8]\n",
      "Test labels :  [7 2 1 ... 4 5 6]\n"
     ]
    }
   ],
   "source": [
    "(x_train,y_train),(x_test,y_test) = mnist.load_data()\n",
    "\n",
    "data_summary(x_train,y_train,x_test,y_test)"
   ]
  },
  {
   "cell_type": "markdown",
   "id": "ef508af5-1cd2-46af-b829-1d3d2cbc4c43",
   "metadata": {},
   "source": [
    "Train images shape :  (60000, 28, 28) - 60000 is enries in traing set and 28,28 i sthe shape\n",
    "Train labels shape :  (60000,)  \n",
    "Test images shape :  (10000, 28, 28)  \n",
    "Test labels shape :  (10000,)  \n",
    "Train labels :  [5 0 4 ... 5 6 8]  \n",
    "Test labels :  [7 2 1 ... 4 5 6]  "
   ]
  },
  {
   "cell_type": "code",
   "execution_count": 6,
   "id": "48edacae-3052-49ce-8474-5f0374a0eddd",
   "metadata": {},
   "outputs": [
    {
     "data": {
      "text/plain": [
       "array([7, 2, 1, ..., 4, 5, 6], dtype=uint8)"
      ]
     },
     "execution_count": 6,
     "metadata": {},
     "output_type": "execute_result"
    }
   ],
   "source": [
    "y_test"
   ]
  },
  {
   "cell_type": "code",
   "execution_count": 13,
   "id": "aaaa1d0e-5234-4d20-aa8d-d13e402aa3ef",
   "metadata": {},
   "outputs": [],
   "source": [
    "# reshape the data\n",
    "x_train = x_train.reshape((x_train.shape[0],NUM_ROWS * NUM_COLS))\n",
    "x_train = x_train.astype('float32') / 255\n",
    "x_test = x_test.reshape((x_test.shape[0],NUM_ROWS * NUM_COLS))\n",
    "x_test = x_test.astype('float32') / 255"
   ]
  },
  {
   "cell_type": "code",
   "execution_count": 11,
   "id": "a4d63a0c-5105-4914-92ed-28528598ce7d",
   "metadata": {},
   "outputs": [
    {
     "name": "stdout",
     "output_type": "stream",
     "text": [
      "(60000, 28, 28)\n",
      "(10000, 28, 28)\n"
     ]
    }
   ],
   "source": [
    "print(x_train.shape)\n",
    "print(x_test.shape)"
   ]
  },
  {
   "cell_type": "code",
   "execution_count": 12,
   "id": "d5fb73e8-bbde-4dff-a184-14f46a8736ca",
   "metadata": {},
   "outputs": [
    {
     "data": {
      "text/plain": [
       "dtype('uint8')"
      ]
     },
     "execution_count": 12,
     "metadata": {},
     "output_type": "execute_result"
    }
   ],
   "source": [
    "x_train.dtype"
   ]
  },
  {
   "cell_type": "code",
   "execution_count": 7,
   "id": "6aef1a98-f9f7-46ae-bf89-f2279b57e192",
   "metadata": {},
   "outputs": [
    {
     "name": "stdout",
     "output_type": "stream",
     "text": [
      "(60000, 784)\n",
      "(10000, 784)\n"
     ]
    }
   ],
   "source": [
    "print(x_train.shape)\n",
    "print(x_test.shape)"
   ]
  },
  {
   "cell_type": "code",
   "execution_count": 14,
   "id": "a0e23d75-e3f2-432c-829f-83386945aafe",
   "metadata": {},
   "outputs": [
    {
     "data": {
      "text/plain": [
       "dtype('float32')"
      ]
     },
     "execution_count": 14,
     "metadata": {},
     "output_type": "execute_result"
    }
   ],
   "source": [
    "x_train.dtype"
   ]
  },
  {
   "cell_type": "code",
   "execution_count": 8,
   "id": "eb5220ac-1478-457d-9b04-1cca549921c7",
   "metadata": {},
   "outputs": [],
   "source": [
    "# categorically encode labesl\n",
    "y_train = to_categorical(y_train,NUM_CLASSES)\n",
    "y_test = to_categorical(y_test,NUM_CLASSES)"
   ]
  },
  {
   "cell_type": "code",
   "execution_count": 9,
   "id": "3e62dc45-841a-4ef0-9636-11ba1a004814",
   "metadata": {},
   "outputs": [
    {
     "data": {
      "text/plain": [
       "array([[0., 0., 0., ..., 1., 0., 0.],\n",
       "       [0., 0., 1., ..., 0., 0., 0.],\n",
       "       [0., 1., 0., ..., 0., 0., 0.],\n",
       "       ...,\n",
       "       [0., 0., 0., ..., 0., 0., 0.],\n",
       "       [0., 0., 0., ..., 0., 0., 0.],\n",
       "       [0., 0., 0., ..., 0., 0., 0.]], dtype=float32)"
      ]
     },
     "execution_count": 9,
     "metadata": {},
     "output_type": "execute_result"
    }
   ],
   "source": [
    "y_test"
   ]
  },
  {
   "cell_type": "code",
   "execution_count": 10,
   "id": "9832ea49-e59b-4c7a-b00e-0ad3357f3ef3",
   "metadata": {},
   "outputs": [
    {
     "name": "stdout",
     "output_type": "stream",
     "text": [
      "Train images shape :  (60000, 784)\n",
      "Train labels shape :  (60000, 10)\n",
      "Test images shape :  (10000, 784)\n",
      "Test labels shape :  (10000, 10)\n",
      "Train labels :  [[0. 0. 0. ... 0. 0. 0.]\n",
      " [1. 0. 0. ... 0. 0. 0.]\n",
      " [0. 0. 0. ... 0. 0. 0.]\n",
      " ...\n",
      " [0. 0. 0. ... 0. 0. 0.]\n",
      " [0. 0. 0. ... 0. 0. 0.]\n",
      " [0. 0. 0. ... 0. 1. 0.]]\n",
      "Test labels :  [[0. 0. 0. ... 1. 0. 0.]\n",
      " [0. 0. 1. ... 0. 0. 0.]\n",
      " [0. 1. 0. ... 0. 0. 0.]\n",
      " ...\n",
      " [0. 0. 0. ... 0. 0. 0.]\n",
      " [0. 0. 0. ... 0. 0. 0.]\n",
      " [0. 0. 0. ... 0. 0. 0.]]\n"
     ]
    }
   ],
   "source": [
    "data_summary(x_train,y_train,x_test,y_test)"
   ]
  },
  {
   "cell_type": "code",
   "execution_count": 11,
   "id": "298b08e8-a6e2-40dd-95a5-ac4653977083",
   "metadata": {},
   "outputs": [],
   "source": [
    "model = models.Sequential()\n",
    "model.add(Dense(512 , activation='relu' , input_shape = (NUM_ROWS * NUM_COLS,)))\n",
    "model.add(Dropout(0.5))\n",
    "model.add(Dense(256 , activation = 'relu'))\n",
    "model.add(Dropout(0.25))\n",
    "model.add(Dense(10 , activation = 'softmax'))\n",
    "\n",
    "# 512 is the nodes"
   ]
  },
  {
   "cell_type": "code",
   "execution_count": 12,
   "id": "f53dd67f-c2dc-43df-9929-3210bf54d0b5",
   "metadata": {},
   "outputs": [
    {
     "data": {
      "image/png": "[encoded data removed]",
      "text/plain": [
       "<Figure size 1200x800 with 2 Axes>"
      ]
     },
     "metadata": {},
     "output_type": "display_data"
    },
    {
     "name": "stdout",
     "output_type": "stream",
     "text": [
      "accuracy\n",
      "\ttraining         \t (min:    0.901, max:    0.981, cur:    0.981)\n",
      "\tvalidation       \t (min:    0.957, max:    0.983, cur:    0.982)\n",
      "Loss\n",
      "\ttraining         \t (min:    0.064, max:    0.325, cur:    0.064)\n",
      "\tvalidation       \t (min:    0.062, max:    0.140, cur:    0.065)\n",
      "469/469 [==============================] - 8s 17ms/step - loss: 0.0638 - accuracy: 0.9809 - val_loss: 0.0648 - val_accuracy: 0.9820\n"
     ]
    },
    {
     "data": {
      "text/plain": [
       "<keras.src.callbacks.History at 0x20814dbfd50>"
      ]
     },
     "execution_count": 12,
     "metadata": {},
     "output_type": "execute_result"
    }
   ],
   "source": [
    "model.compile(optimizer = 'rmsprop',\n",
    "             loss = 'categorical_crossentropy',\n",
    "             metrics=['accuracy'])\n",
    "model.fit(x_train,y_train,\n",
    "         batch_size=BATCH_SIZE,\n",
    "         epochs=EPOCHS,\n",
    "         callbacks=[plot_losses],\n",
    "         verbose=1,\n",
    "         validation_data=(x_test,y_test))"
   ]
  },
  {
   "cell_type": "code",
   "execution_count": 13,
   "id": "31efdb64-4164-49fa-b790-6f701b8b94c2",
   "metadata": {},
   "outputs": [
    {
     "name": "stdout",
     "output_type": "stream",
     "text": [
      "Test loss :  0.0648045763373375\n",
      "Test accuracy :  0.9819999933242798\n"
     ]
    }
   ],
   "source": [
    "score = model.evaluate(x_test,y_test,verbose=0)\n",
    "print('Test loss : ',score[0])\n",
    "print('Test accuracy : ',score[1])"
   ]
  },
  {
   "cell_type": "code",
   "execution_count": 14,
   "id": "ecb01680-ab16-4cd1-8b8b-f592005b3c66",
   "metadata": {},
   "outputs": [
    {
     "name": "stdout",
     "output_type": "stream",
     "text": [
      "Model: \"sequential\"\n",
      "_________________________________________________________________\n",
      " Layer (type)                Output Shape              Param #   \n",
      "=================================================================\n",
      " dense (Dense)               (None, 512)               401920    \n",
      "                                                                 \n",
      " dropout (Dropout)           (None, 512)               0         \n",
      "                                                                 \n",
      " dense_1 (Dense)             (None, 256)               131328    \n",
      "                                                                 \n",
      " dropout_1 (Dropout)         (None, 256)               0         \n",
      "                                                                 \n",
      " dense_2 (Dense)             (None, 10)                2570      \n",
      "                                                                 \n",
      "=================================================================\n",
      "Total params: 535818 (2.04 MB)\n",
      "Trainable params: 535818 (2.04 MB)\n",
      "Non-trainable params: 0 (0.00 Byte)\n",
      "_________________________________________________________________\n"
     ]
    }
   ],
   "source": [
    "model.summary()"
   ]
  },
  {
   "cell_type": "code",
   "execution_count": 15,
   "id": "1bd97e5b-a966-475e-9e11-bd14cfc3bef5",
   "metadata": {},
   "outputs": [],
   "source": [
    "# pip install pydot"
   ]
  },
  {
   "cell_type": "code",
   "execution_count": 16,
   "id": "3899cd3d-d69e-42ff-aabd-65dba9098e46",
   "metadata": {},
   "outputs": [
    {
     "data": {
      "image/svg+xml": [
       "<svg xmlns=\"http://www.w3.org/2000/svg\" xmlns:xlink=\"http://www.w3.org/1999/xlink\" width=\"225pt\" height=\"547pt\" viewBox=\"0.00 0.00 169.00 410.00\">\n",
       "<g id=\"graph0\" class=\"graph\" transform=\"scale(1.33 1.33) rotate(0) translate(4 406)\">\n",
       "<title>G</title>\n",
       "<polygon fill=\"white\" stroke=\"transparent\" points=\"-4,4 -4,-406 165,-406 165,4 -4,4\"/>\n",
       "<!-- 2233729614352 -->\n",
       "<g id=\"node1\" class=\"node\">\n",
       "<title>2233729614352</title>\n",
       "<polygon fill=\"none\" stroke=\"black\" points=\"0,-365.5 0,-401.5 161,-401.5 161,-365.5 0,-365.5\"/>\n",
       "<text text-anchor=\"middle\" x=\"42\" y=\"-379.8\" font-family=\"Times New Roman,serif\" font-size=\"14.00\">dense_input</text>\n",
       "<polyline fill=\"none\" stroke=\"black\" points=\"84,-365.5 84,-401.5 \"/>\n",
       "<text text-anchor=\"middle\" x=\"122.5\" y=\"-379.8\" font-family=\"Times New Roman,serif\" font-size=\"14.00\">InputLayer</text>\n",
       "</g>\n",
       "<!-- 2233727982160 -->\n",
       "<g id=\"node2\" class=\"node\">\n",
       "<title>2233727982160</title>\n",
       "<polygon fill=\"none\" stroke=\"black\" points=\"30.5,-292.5 30.5,-328.5 130.5,-328.5 130.5,-292.5 30.5,-292.5\"/>\n",
       "<text text-anchor=\"middle\" x=\"55\" y=\"-306.8\" font-family=\"Times New Roman,serif\" font-size=\"14.00\">dense</text>\n",
       "<polyline fill=\"none\" stroke=\"black\" points=\"79.5,-292.5 79.5,-328.5 \"/>\n",
       "<text text-anchor=\"middle\" x=\"105\" y=\"-306.8\" font-family=\"Times New Roman,serif\" font-size=\"14.00\">Dense</text>\n",
       "</g>\n",
       "<!-- 2233729614352&#45;&gt;2233727982160 -->\n",
       "<g id=\"edge1\" class=\"edge\">\n",
       "<title>2233729614352-&gt;2233727982160</title>\n",
       "<path fill=\"none\" stroke=\"black\" d=\"M80.5,-365.31C80.5,-357.29 80.5,-347.55 80.5,-338.57\"/>\n",
       "<polygon fill=\"black\" stroke=\"black\" points=\"84,-338.53 80.5,-328.53 77,-338.53 84,-338.53\"/>\n",
       "</g>\n",
       "<!-- 2233729219856 -->\n",
       "<g id=\"node3\" class=\"node\">\n",
       "<title>2233729219856</title>\n",
       "<polygon fill=\"none\" stroke=\"black\" points=\"17.5,-219.5 17.5,-255.5 143.5,-255.5 143.5,-219.5 17.5,-219.5\"/>\n",
       "<text text-anchor=\"middle\" x=\"48.5\" y=\"-233.8\" font-family=\"Times New Roman,serif\" font-size=\"14.00\">dropout</text>\n",
       "<polyline fill=\"none\" stroke=\"black\" points=\"79.5,-219.5 79.5,-255.5 \"/>\n",
       "<text text-anchor=\"middle\" x=\"111.5\" y=\"-233.8\" font-family=\"Times New Roman,serif\" font-size=\"14.00\">Dropout</text>\n",
       "</g>\n",
       "<!-- 2233727982160&#45;&gt;2233729219856 -->\n",
       "<g id=\"edge2\" class=\"edge\">\n",
       "<title>2233727982160-&gt;2233729219856</title>\n",
       "<path fill=\"none\" stroke=\"black\" d=\"M80.5,-292.31C80.5,-284.29 80.5,-274.55 80.5,-265.57\"/>\n",
       "<polygon fill=\"black\" stroke=\"black\" points=\"84,-265.53 80.5,-255.53 77,-265.53 84,-265.53\"/>\n",
       "</g>\n",
       "<!-- 2233683031504 -->\n",
       "<g id=\"node4\" class=\"node\">\n",
       "<title>2233683031504</title>\n",
       "<polygon fill=\"none\" stroke=\"black\" points=\"23.5,-146.5 23.5,-182.5 137.5,-182.5 137.5,-146.5 23.5,-146.5\"/>\n",
       "<text text-anchor=\"middle\" x=\"55\" y=\"-160.8\" font-family=\"Times New Roman,serif\" font-size=\"14.00\">dense_1</text>\n",
       "<polyline fill=\"none\" stroke=\"black\" points=\"86.5,-146.5 86.5,-182.5 \"/>\n",
       "<text text-anchor=\"middle\" x=\"112\" y=\"-160.8\" font-family=\"Times New Roman,serif\" font-size=\"14.00\">Dense</text>\n",
       "</g>\n",
       "<!-- 2233729219856&#45;&gt;2233683031504 -->\n",
       "<g id=\"edge3\" class=\"edge\">\n",
       "<title>2233729219856-&gt;2233683031504</title>\n",
       "<path fill=\"none\" stroke=\"black\" d=\"M80.5,-219.31C80.5,-211.29 80.5,-201.55 80.5,-192.57\"/>\n",
       "<polygon fill=\"black\" stroke=\"black\" points=\"84,-192.53 80.5,-182.53 77,-192.53 84,-192.53\"/>\n",
       "</g>\n",
       "<!-- 2233729436496 -->\n",
       "<g id=\"node5\" class=\"node\">\n",
       "<title>2233729436496</title>\n",
       "<polygon fill=\"none\" stroke=\"black\" points=\"10.5,-73.5 10.5,-109.5 150.5,-109.5 150.5,-73.5 10.5,-73.5\"/>\n",
       "<text text-anchor=\"middle\" x=\"48.5\" y=\"-87.8\" font-family=\"Times New Roman,serif\" font-size=\"14.00\">dropout_1</text>\n",
       "<polyline fill=\"none\" stroke=\"black\" points=\"86.5,-73.5 86.5,-109.5 \"/>\n",
       "<text text-anchor=\"middle\" x=\"118.5\" y=\"-87.8\" font-family=\"Times New Roman,serif\" font-size=\"14.00\">Dropout</text>\n",
       "</g>\n",
       "<!-- 2233683031504&#45;&gt;2233729436496 -->\n",
       "<g id=\"edge4\" class=\"edge\">\n",
       "<title>2233683031504-&gt;2233729436496</title>\n",
       "<path fill=\"none\" stroke=\"black\" d=\"M80.5,-146.31C80.5,-138.29 80.5,-128.55 80.5,-119.57\"/>\n",
       "<polygon fill=\"black\" stroke=\"black\" points=\"84,-119.53 80.5,-109.53 77,-119.53 84,-119.53\"/>\n",
       "</g>\n",
       "<!-- 2233732624720 -->\n",
       "<g id=\"node6\" class=\"node\">\n",
       "<title>2233732624720</title>\n",
       "<polygon fill=\"none\" stroke=\"black\" points=\"23.5,-0.5 23.5,-36.5 137.5,-36.5 137.5,-0.5 23.5,-0.5\"/>\n",
       "<text text-anchor=\"middle\" x=\"55\" y=\"-14.8\" font-family=\"Times New Roman,serif\" font-size=\"14.00\">dense_2</text>\n",
       "<polyline fill=\"none\" stroke=\"black\" points=\"86.5,-0.5 86.5,-36.5 \"/>\n",
       "<text text-anchor=\"middle\" x=\"112\" y=\"-14.8\" font-family=\"Times New Roman,serif\" font-size=\"14.00\">Dense</text>\n",
       "</g>\n",
       "<!-- 2233729436496&#45;&gt;2233732624720 -->\n",
       "<g id=\"edge5\" class=\"edge\">\n",
       "<title>2233729436496-&gt;2233732624720</title>\n",
       "<path fill=\"none\" stroke=\"black\" d=\"M80.5,-73.31C80.5,-65.29 80.5,-55.55 80.5,-46.57\"/>\n",
       "<polygon fill=\"black\" stroke=\"black\" points=\"84,-46.53 80.5,-36.53 77,-46.53 84,-46.53\"/>\n",
       "</g>\n",
       "</g>\n",
       "</svg>"
      ],
      "text/plain": [
       "<IPython.core.display.SVG object>"
      ]
     },
     "execution_count": 16,
     "metadata": {},
     "output_type": "execute_result"
    }
   ],
   "source": [
    "SVG(model_to_dot(model).create(prog='dot',format='svg'))"
   ]
  },
  {
   "cell_type": "code",
   "execution_count": null,
   "id": "78955347-b916-47f1-acbc-7bdb0ca42afd",
   "metadata": {},
   "outputs": [],
   "source": []
  },
  {
   "cell_type": "code",
   "execution_count": null,
   "id": "093cb936-ae01-4b3b-9cfc-d4bc719eb7dd",
   "metadata": {},
   "outputs": [],
   "source": []
  }
 ],
 "metadata": {
  "kernelspec": {
   "display_name": "virtualenv",
   "language": "python",
   "name": "virtualenv"
  },
  "language_info": {
   "codemirror_mode": {
    "name": "ipython",
    "version": 3
   },
   "file_extension": ".py",
   "mimetype": "text/x-python",
   "name": "python",
   "nbconvert_exporter": "python",
   "pygments_lexer": "ipython3",
   "version": "3.11.5"
  }
 },
 "nbformat": 4,
 "nbformat_minor": 5
}
