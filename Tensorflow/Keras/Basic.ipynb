{
 "cells": [
  {
   "cell_type": "code",
   "execution_count": 2,
   "id": "947b91f6-b913-4238-9da0-46000b5e28c6",
   "metadata": {},
   "outputs": [],
   "source": [
    "import tensorflow as tf"
   ]
  },
  {
   "cell_type": "code",
   "execution_count": 4,
   "id": "3cfbc7ee-1d3c-4b75-b412-c59733190b03",
   "metadata": {},
   "outputs": [
    {
     "name": "stdout",
     "output_type": "stream",
     "text": [
      "veraion: 2.13.0\n"
     ]
    }
   ],
   "source": [
    "print((\"veraion: {0}\").format(tf.__version__))"
   ]
  },
  {
   "cell_type": "code",
   "execution_count": 5,
   "id": "cb3825d6-a9a7-4716-9dbe-9a8329ec4e0e",
   "metadata": {},
   "outputs": [
    {
     "data": {
      "text/plain": [
       "<tf.Tensor: shape=(2, 2), dtype=int32, numpy=\n",
       "array([[4, 3],\n",
       "       [5, 6]])>"
      ]
     },
     "execution_count": 5,
     "metadata": {},
     "output_type": "execute_result"
    }
   ],
   "source": [
    "a = tf.constant([[4,3],[5,6]])\n",
    "a"
   ]
  },
  {
   "cell_type": "code",
   "execution_count": 6,
   "id": "7f095e70-210e-449a-b07d-56829aed0e34",
   "metadata": {},
   "outputs": [
    {
     "data": {
      "text/plain": [
       "<tf.Variable 'Variable:0' shape=(2, 2) dtype=int32, numpy=\n",
       "array([[7, 8],\n",
       "       [3, 4]])>"
      ]
     },
     "execution_count": 6,
     "metadata": {},
     "output_type": "execute_result"
    }
   ],
   "source": [
    "b = tf.Variable([[7,8],[3,4]])\n",
    "b"
   ]
  },
  {
   "cell_type": "code",
   "execution_count": 9,
   "id": "1788243b-3090-497c-a721-c4b632dfbbb0",
   "metadata": {},
   "outputs": [
    {
     "data": {
      "text/plain": [
       "<tf.Tensor: shape=(4, 2), dtype=int32, numpy=\n",
       "array([[4, 3],\n",
       "       [5, 6],\n",
       "       [7, 8],\n",
       "       [3, 4]])>"
      ]
     },
     "execution_count": 9,
     "metadata": {},
     "output_type": "execute_result"
    }
   ],
   "source": [
    "# concatenate row\n",
    "ab_concate = tf.concat(values=[a,b],axis=0)\n",
    "ab_concate"
   ]
  },
  {
   "cell_type": "code",
   "execution_count": 10,
   "id": "6e0eb552-8d7f-47df-8458-5f70f4e73627",
   "metadata": {},
   "outputs": [
    {
     "data": {
      "text/plain": [
       "<tf.Tensor: shape=(2, 4), dtype=int32, numpy=\n",
       "array([[4, 3, 7, 8],\n",
       "       [5, 6, 3, 4]])>"
      ]
     },
     "execution_count": 10,
     "metadata": {},
     "output_type": "execute_result"
    }
   ],
   "source": [
    "# concatenate col\n",
    "ab_concate = tf.concat(values=[a,b],axis=1)\n",
    "ab_concate"
   ]
  },
  {
   "cell_type": "code",
   "execution_count": 11,
   "id": "1086869a-a525-4f83-a46c-c7434fad5401",
   "metadata": {},
   "outputs": [
    {
     "data": {
      "text/plain": [
       "<tf.Tensor: shape=(3, 4), dtype=float32, numpy=\n",
       "array([[0., 0., 0., 0.],\n",
       "       [0., 0., 0., 0.],\n",
       "       [0., 0., 0., 0.]], dtype=float32)>"
      ]
     },
     "execution_count": 11,
     "metadata": {},
     "output_type": "execute_result"
    }
   ],
   "source": [
    "tensor_zero = tf.zeros(shape=[3,4])\n",
    "tensor_zero"
   ]
  },
  {
   "cell_type": "code",
   "execution_count": 13,
   "id": "44e868d2-25b3-4119-9556-de63e3397091",
   "metadata": {},
   "outputs": [
    {
     "data": {
      "text/plain": [
       "<tf.Tensor: shape=(3, 4), dtype=int32, numpy=\n",
       "array([[0, 0, 0, 0],\n",
       "       [0, 0, 0, 0],\n",
       "       [0, 0, 0, 0]])>"
      ]
     },
     "execution_count": 13,
     "metadata": {},
     "output_type": "execute_result"
    }
   ],
   "source": [
    "tensor = tf.zeros(shape=[3,4],dtype=tf.int32)\n",
    "tensor"
   ]
  },
  {
   "cell_type": "markdown",
   "id": "1bc5bf73-c74a-4cc3-b04b-4e3c45304bf7",
   "metadata": {},
   "source": [
    "### dtype\n",
    "it is given because ,we want to run the code on any comp,like it should match"
   ]
  },
  {
   "cell_type": "code",
   "execution_count": 15,
   "id": "95defc64-701a-443a-974b-86bd6dfb57d2",
   "metadata": {},
   "outputs": [
    {
     "data": {
      "text/plain": [
       "<tf.Tensor: shape=(3, 4), dtype=int32, numpy=\n",
       "array([[1, 1, 1, 1],\n",
       "       [1, 1, 1, 1],\n",
       "       [1, 1, 1, 1]])>"
      ]
     },
     "execution_count": 15,
     "metadata": {},
     "output_type": "execute_result"
    }
   ],
   "source": [
    "tensor_ones = tf.ones(shape=[3,4],dtype=tf.int32)\n",
    "tensor_ones"
   ]
  },
  {
   "cell_type": "code",
   "execution_count": 19,
   "id": "060e95df-c588-4fe2-922e-37bac8089a80",
   "metadata": {},
   "outputs": [
    {
     "data": {
      "text/plain": [
       "<tf.Tensor: shape=(3, 4), dtype=float32, numpy=\n",
       "array([[0.83026505, 0.13255262, 0.555061  , 0.9477439 ],\n",
       "       [0.89108944, 0.5496248 , 0.03233242, 0.50608027],\n",
       "       [0.85777175, 0.7618818 , 0.3560524 , 0.8176762 ]], dtype=float32)>"
      ]
     },
     "execution_count": 19,
     "metadata": {},
     "output_type": "execute_result"
    }
   ],
   "source": [
    "tensor_ramdom = tf.random.uniform(shape=[3,4],dtype=tf.float32)\n",
    "tensor_ramdom"
   ]
  },
  {
   "cell_type": "code",
   "execution_count": 16,
   "id": "56a474f9-2e4f-4040-ad28-7d4e368f684a",
   "metadata": {},
   "outputs": [
    {
     "data": {
      "text/plain": [
       "<tf.Tensor: shape=(4, 3), dtype=int32, numpy=\n",
       "array([[1, 1, 1],\n",
       "       [1, 1, 1],\n",
       "       [1, 1, 1],\n",
       "       [1, 1, 1]])>"
      ]
     },
     "execution_count": 16,
     "metadata": {},
     "output_type": "execute_result"
    }
   ],
   "source": [
    "reshape_tensor = tf.reshape(tensor=tensor_ones,shape=[4,3])\n",
    "reshape_tensor"
   ]
  },
  {
   "cell_type": "code",
   "execution_count": 20,
   "id": "8c73c251-a89c-4b66-8cd2-1fa1be19f165",
   "metadata": {},
   "outputs": [
    {
     "data": {
      "text/plain": [
       "<tf.Tensor: shape=(4, 3), dtype=float32, numpy=\n",
       "array([[0.83026505, 0.13255262, 0.555061  ],\n",
       "       [0.9477439 , 0.89108944, 0.5496248 ],\n",
       "       [0.03233242, 0.50608027, 0.85777175],\n",
       "       [0.7618818 , 0.3560524 , 0.8176762 ]], dtype=float32)>"
      ]
     },
     "execution_count": 20,
     "metadata": {},
     "output_type": "execute_result"
    }
   ],
   "source": [
    "reshape_tensor_random = tf.reshape(tensor=tensor_ramdom,shape=[4,3])\n",
    "reshape_tensor_random"
   ]
  },
  {
   "cell_type": "markdown",
   "id": "97e3f995-a1ca-4e6d-9029-de5fa39f64e2",
   "metadata": {},
   "source": [
    "## typecast a tenso"
   ]
  },
  {
   "cell_type": "code",
   "execution_count": 23,
   "id": "1715a43b-a7ec-4882-86e0-909c4b2d785b",
   "metadata": {},
   "outputs": [
    {
     "name": "stdout",
     "output_type": "stream",
     "text": [
      "tf.Tensor(\n",
      "[[4.5 6.7]\n",
      " [1.2 2.3]\n",
      " [3.4 5.6]\n",
      " [7.8 9.9]], shape=(4, 2), dtype=float16)\n",
      "tf.Tensor(\n",
      "[[4 6]\n",
      " [1 2]\n",
      " [3 5]\n",
      " [7 9]], shape=(4, 2), dtype=int16)\n"
     ]
    }
   ],
   "source": [
    "tensor_float = tf.constant([[4.5,6.7],[1.2,2.3],[3.4,5.6],[7.8,9.9]],dtype=tf.float16)\n",
    "tensor_int = tf.cast(tensor_float,tf.int16)\n",
    "print(tensor_float)\n",
    "print(tensor_int)"
   ]
  },
  {
   "cell_type": "code",
   "execution_count": 25,
   "id": "338f737f-a36f-4d5a-ba20-48affb459da0",
   "metadata": {},
   "outputs": [
    {
     "data": {
      "text/plain": [
       "<tf.Tensor: shape=(2, 4), dtype=int16, numpy=\n",
       "array([[4, 1, 3, 7],\n",
       "       [6, 2, 5, 9]], dtype=int16)>"
      ]
     },
     "execution_count": 25,
     "metadata": {},
     "output_type": "execute_result"
    }
   ],
   "source": [
    "a_t = tf.transpose(tensor_int)\n",
    "a_t"
   ]
  },
  {
   "cell_type": "code",
   "execution_count": 30,
   "id": "4ddcf0d4-7502-48d7-8816-a6088fde5651",
   "metadata": {},
   "outputs": [
    {
     "data": {
      "text/plain": [
       "<tf.Tensor: shape=(2, 1), dtype=int32, numpy=\n",
       "array([[36],\n",
       "       [30]])>"
      ]
     },
     "execution_count": 30,
     "metadata": {},
     "output_type": "execute_result"
    }
   ],
   "source": [
    "# matrix multiplication of tensors\n",
    "a = tf.constant([[5,8],[3,9]])\n",
    "\n",
    "# vector\n",
    "v = tf.constant([[4],[2]])\n",
    "\n",
    "av=tf.matmul(a,v)\n",
    "av"
   ]
  },
  {
   "cell_type": "code",
   "execution_count": 31,
   "id": "ec36bbd8-504f-4737-aabd-e67401f902a5",
   "metadata": {},
   "outputs": [
    {
     "data": {
      "text/plain": [
       "<tf.Tensor: shape=(2, 2), dtype=int32, numpy=\n",
       "array([[20, 32],\n",
       "       [ 6, 18]])>"
      ]
     },
     "execution_count": 31,
     "metadata": {},
     "output_type": "execute_result"
    }
   ],
   "source": [
    "# element-wish multipliction\n",
    "av = tf.multiply(a,v)\n",
    "av"
   ]
  },
  {
   "cell_type": "code",
   "execution_count": 36,
   "id": "d966cd5a-522e-40e4-8574-14510b54a33b",
   "metadata": {},
   "outputs": [
    {
     "name": "stdout",
     "output_type": "stream",
     "text": [
      "rows :  3 col :  2\n"
     ]
    }
   ],
   "source": [
    "a = tf.constant([[4,9],[5,6],[1,8]])\n",
    "rows , col = a.shape\n",
    "print(\"rows : \",rows,\"col : \",col)\n",
    "\n",
    "# a.shape - is a numpy "
   ]
  },
  {
   "cell_type": "code",
   "execution_count": 37,
   "id": "2112e3c2-0557-4f0e-b681-b5b42612a475",
   "metadata": {},
   "outputs": [
    {
     "data": {
      "text/plain": [
       "<tf.Tensor: shape=(3, 2), dtype=int32, numpy=\n",
       "array([[1, 0],\n",
       "       [0, 1],\n",
       "       [0, 0]])>"
      ]
     },
     "execution_count": 37,
     "metadata": {},
     "output_type": "execute_result"
    }
   ],
   "source": [
    "# making an identity matrix\n",
    "a_identity = tf.eye(num_rows=rows,\n",
    "                    num_columns=col,\n",
    "                    dtype=tf.int32)\n",
    "a_identity"
   ]
  },
  {
   "cell_type": "code",
   "execution_count": null,
   "id": "2812b87d-7d18-41d3-8523-61fb88987174",
   "metadata": {},
   "outputs": [],
   "source": []
  }
 ],
 "metadata": {
  "kernelspec": {
   "display_name": "virtualenv",
   "language": "python",
   "name": "virtualenv"
  },
  "language_info": {
   "codemirror_mode": {
    "name": "ipython",
    "version": 3
   },
   "file_extension": ".py",
   "mimetype": "text/x-python",
   "name": "python",
   "nbconvert_exporter": "python",
   "pygments_lexer": "ipython3",
   "version": "3.11.5"
  }
 },
 "nbformat": 4,
 "nbformat_minor": 5
}
