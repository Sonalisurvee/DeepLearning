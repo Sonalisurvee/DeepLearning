{
 "cells": [
  {
   "cell_type": "code",
   "execution_count": 1,
   "id": "a29c4422-ac38-4542-8f68-75f52b199d67",
   "metadata": {},
   "outputs": [],
   "source": [
    "import pandas as pd\n",
    "import  numpy as np\n",
    "\n",
    "np.random.seed(1212)\n",
    "\n",
    "import keras\n",
    "from keras.models import Model\n",
    "from keras.layers import *\n",
    "from keras import optimizers"
   ]
  },
  {
   "cell_type": "code",
   "execution_count": 2,
   "id": "9e5fa96f-ab60-41f1-9f14-cff29f0cf441",
   "metadata": {},
   "outputs": [],
   "source": [
    "df_train = pd.read_csv(\"mnist_train.csv\")\n",
    "df_test = pd.read_csv(\"mnist_test.csv\")"
   ]
  },
  {
   "cell_type": "code",
   "execution_count": 3,
   "id": "d021a583-5967-468f-8c58-970dc53cc389",
   "metadata": {},
   "outputs": [
    {
     "data": {
      "text/html": [
       "<div>\n",
       "<style scoped>\n",
       "    .dataframe tbody tr th:only-of-type {\n",
       "        vertical-align: middle;\n",
       "    }\n",
       "\n",
       "    .dataframe tbody tr th {\n",
       "        vertical-align: top;\n",
       "    }\n",
       "\n",
       "    .dataframe thead th {\n",
       "        text-align: right;\n",
       "    }\n",
       "</style>\n",
       "<table border=\"1\" class=\"dataframe\">\n",
       "  <thead>\n",
       "    <tr style=\"text-align: right;\">\n",
       "      <th></th>\n",
       "      <th>label</th>\n",
       "      <th>1x1</th>\n",
       "      <th>1x2</th>\n",
       "      <th>1x3</th>\n",
       "      <th>1x4</th>\n",
       "      <th>1x5</th>\n",
       "      <th>1x6</th>\n",
       "      <th>1x7</th>\n",
       "      <th>1x8</th>\n",
       "      <th>1x9</th>\n",
       "      <th>...</th>\n",
       "      <th>28x19</th>\n",
       "      <th>28x20</th>\n",
       "      <th>28x21</th>\n",
       "      <th>28x22</th>\n",
       "      <th>28x23</th>\n",
       "      <th>28x24</th>\n",
       "      <th>28x25</th>\n",
       "      <th>28x26</th>\n",
       "      <th>28x27</th>\n",
       "      <th>28x28</th>\n",
       "    </tr>\n",
       "  </thead>\n",
       "  <tbody>\n",
       "    <tr>\n",
       "      <th>0</th>\n",
       "      <td>5</td>\n",
       "      <td>0</td>\n",
       "      <td>0</td>\n",
       "      <td>0</td>\n",
       "      <td>0</td>\n",
       "      <td>0</td>\n",
       "      <td>0</td>\n",
       "      <td>0</td>\n",
       "      <td>0</td>\n",
       "      <td>0</td>\n",
       "      <td>...</td>\n",
       "      <td>0</td>\n",
       "      <td>0</td>\n",
       "      <td>0</td>\n",
       "      <td>0</td>\n",
       "      <td>0</td>\n",
       "      <td>0</td>\n",
       "      <td>0</td>\n",
       "      <td>0</td>\n",
       "      <td>0</td>\n",
       "      <td>0</td>\n",
       "    </tr>\n",
       "    <tr>\n",
       "      <th>1</th>\n",
       "      <td>0</td>\n",
       "      <td>0</td>\n",
       "      <td>0</td>\n",
       "      <td>0</td>\n",
       "      <td>0</td>\n",
       "      <td>0</td>\n",
       "      <td>0</td>\n",
       "      <td>0</td>\n",
       "      <td>0</td>\n",
       "      <td>0</td>\n",
       "      <td>...</td>\n",
       "      <td>0</td>\n",
       "      <td>0</td>\n",
       "      <td>0</td>\n",
       "      <td>0</td>\n",
       "      <td>0</td>\n",
       "      <td>0</td>\n",
       "      <td>0</td>\n",
       "      <td>0</td>\n",
       "      <td>0</td>\n",
       "      <td>0</td>\n",
       "    </tr>\n",
       "    <tr>\n",
       "      <th>2</th>\n",
       "      <td>4</td>\n",
       "      <td>0</td>\n",
       "      <td>0</td>\n",
       "      <td>0</td>\n",
       "      <td>0</td>\n",
       "      <td>0</td>\n",
       "      <td>0</td>\n",
       "      <td>0</td>\n",
       "      <td>0</td>\n",
       "      <td>0</td>\n",
       "      <td>...</td>\n",
       "      <td>0</td>\n",
       "      <td>0</td>\n",
       "      <td>0</td>\n",
       "      <td>0</td>\n",
       "      <td>0</td>\n",
       "      <td>0</td>\n",
       "      <td>0</td>\n",
       "      <td>0</td>\n",
       "      <td>0</td>\n",
       "      <td>0</td>\n",
       "    </tr>\n",
       "    <tr>\n",
       "      <th>3</th>\n",
       "      <td>1</td>\n",
       "      <td>0</td>\n",
       "      <td>0</td>\n",
       "      <td>0</td>\n",
       "      <td>0</td>\n",
       "      <td>0</td>\n",
       "      <td>0</td>\n",
       "      <td>0</td>\n",
       "      <td>0</td>\n",
       "      <td>0</td>\n",
       "      <td>...</td>\n",
       "      <td>0</td>\n",
       "      <td>0</td>\n",
       "      <td>0</td>\n",
       "      <td>0</td>\n",
       "      <td>0</td>\n",
       "      <td>0</td>\n",
       "      <td>0</td>\n",
       "      <td>0</td>\n",
       "      <td>0</td>\n",
       "      <td>0</td>\n",
       "    </tr>\n",
       "    <tr>\n",
       "      <th>4</th>\n",
       "      <td>9</td>\n",
       "      <td>0</td>\n",
       "      <td>0</td>\n",
       "      <td>0</td>\n",
       "      <td>0</td>\n",
       "      <td>0</td>\n",
       "      <td>0</td>\n",
       "      <td>0</td>\n",
       "      <td>0</td>\n",
       "      <td>0</td>\n",
       "      <td>...</td>\n",
       "      <td>0</td>\n",
       "      <td>0</td>\n",
       "      <td>0</td>\n",
       "      <td>0</td>\n",
       "      <td>0</td>\n",
       "      <td>0</td>\n",
       "      <td>0</td>\n",
       "      <td>0</td>\n",
       "      <td>0</td>\n",
       "      <td>0</td>\n",
       "    </tr>\n",
       "  </tbody>\n",
       "</table>\n",
       "<p>5 rows × 785 columns</p>\n",
       "</div>"
      ],
      "text/plain": [
       "   label  1x1  1x2  1x3  1x4  1x5  1x6  1x7  1x8  1x9  ...  28x19  28x20  \\\n",
       "0      5    0    0    0    0    0    0    0    0    0  ...      0      0   \n",
       "1      0    0    0    0    0    0    0    0    0    0  ...      0      0   \n",
       "2      4    0    0    0    0    0    0    0    0    0  ...      0      0   \n",
       "3      1    0    0    0    0    0    0    0    0    0  ...      0      0   \n",
       "4      9    0    0    0    0    0    0    0    0    0  ...      0      0   \n",
       "\n",
       "   28x21  28x22  28x23  28x24  28x25  28x26  28x27  28x28  \n",
       "0      0      0      0      0      0      0      0      0  \n",
       "1      0      0      0      0      0      0      0      0  \n",
       "2      0      0      0      0      0      0      0      0  \n",
       "3      0      0      0      0      0      0      0      0  \n",
       "4      0      0      0      0      0      0      0      0  \n",
       "\n",
       "[5 rows x 785 columns]"
      ]
     },
     "execution_count": 3,
     "metadata": {},
     "output_type": "execute_result"
    }
   ],
   "source": [
    "df_train.head()\n",
    "\n",
    "# 784 features and 1 label\n",
    "# 1x1 is pixel0\n",
    "# 1x2 is pixel1\n",
    "# 1x3 is pixel2"
   ]
  },
  {
   "cell_type": "code",
   "execution_count": 4,
   "id": "e54ff182-08af-4bca-a0a2-c0ce156e9164",
   "metadata": {},
   "outputs": [],
   "source": [
    "df_test = df_test.drop('label',axis=1)"
   ]
  },
  {
   "cell_type": "code",
   "execution_count": 5,
   "id": "88224297-dcff-46b1-9984-bd71569b6071",
   "metadata": {},
   "outputs": [
    {
     "data": {
      "text/html": [
       "<div>\n",
       "<style scoped>\n",
       "    .dataframe tbody tr th:only-of-type {\n",
       "        vertical-align: middle;\n",
       "    }\n",
       "\n",
       "    .dataframe tbody tr th {\n",
       "        vertical-align: top;\n",
       "    }\n",
       "\n",
       "    .dataframe thead th {\n",
       "        text-align: right;\n",
       "    }\n",
       "</style>\n",
       "<table border=\"1\" class=\"dataframe\">\n",
       "  <thead>\n",
       "    <tr style=\"text-align: right;\">\n",
       "      <th></th>\n",
       "      <th>1x1</th>\n",
       "      <th>1x2</th>\n",
       "      <th>1x3</th>\n",
       "      <th>1x4</th>\n",
       "      <th>1x5</th>\n",
       "      <th>1x6</th>\n",
       "      <th>1x7</th>\n",
       "      <th>1x8</th>\n",
       "      <th>1x9</th>\n",
       "      <th>1x10</th>\n",
       "      <th>...</th>\n",
       "      <th>28x19</th>\n",
       "      <th>28x20</th>\n",
       "      <th>28x21</th>\n",
       "      <th>28x22</th>\n",
       "      <th>28x23</th>\n",
       "      <th>28x24</th>\n",
       "      <th>28x25</th>\n",
       "      <th>28x26</th>\n",
       "      <th>28x27</th>\n",
       "      <th>28x28</th>\n",
       "    </tr>\n",
       "  </thead>\n",
       "  <tbody>\n",
       "    <tr>\n",
       "      <th>0</th>\n",
       "      <td>0</td>\n",
       "      <td>0</td>\n",
       "      <td>0</td>\n",
       "      <td>0</td>\n",
       "      <td>0</td>\n",
       "      <td>0</td>\n",
       "      <td>0</td>\n",
       "      <td>0</td>\n",
       "      <td>0</td>\n",
       "      <td>0</td>\n",
       "      <td>...</td>\n",
       "      <td>0</td>\n",
       "      <td>0</td>\n",
       "      <td>0</td>\n",
       "      <td>0</td>\n",
       "      <td>0</td>\n",
       "      <td>0</td>\n",
       "      <td>0</td>\n",
       "      <td>0</td>\n",
       "      <td>0</td>\n",
       "      <td>0</td>\n",
       "    </tr>\n",
       "    <tr>\n",
       "      <th>1</th>\n",
       "      <td>0</td>\n",
       "      <td>0</td>\n",
       "      <td>0</td>\n",
       "      <td>0</td>\n",
       "      <td>0</td>\n",
       "      <td>0</td>\n",
       "      <td>0</td>\n",
       "      <td>0</td>\n",
       "      <td>0</td>\n",
       "      <td>0</td>\n",
       "      <td>...</td>\n",
       "      <td>0</td>\n",
       "      <td>0</td>\n",
       "      <td>0</td>\n",
       "      <td>0</td>\n",
       "      <td>0</td>\n",
       "      <td>0</td>\n",
       "      <td>0</td>\n",
       "      <td>0</td>\n",
       "      <td>0</td>\n",
       "      <td>0</td>\n",
       "    </tr>\n",
       "    <tr>\n",
       "      <th>2</th>\n",
       "      <td>0</td>\n",
       "      <td>0</td>\n",
       "      <td>0</td>\n",
       "      <td>0</td>\n",
       "      <td>0</td>\n",
       "      <td>0</td>\n",
       "      <td>0</td>\n",
       "      <td>0</td>\n",
       "      <td>0</td>\n",
       "      <td>0</td>\n",
       "      <td>...</td>\n",
       "      <td>0</td>\n",
       "      <td>0</td>\n",
       "      <td>0</td>\n",
       "      <td>0</td>\n",
       "      <td>0</td>\n",
       "      <td>0</td>\n",
       "      <td>0</td>\n",
       "      <td>0</td>\n",
       "      <td>0</td>\n",
       "      <td>0</td>\n",
       "    </tr>\n",
       "    <tr>\n",
       "      <th>3</th>\n",
       "      <td>0</td>\n",
       "      <td>0</td>\n",
       "      <td>0</td>\n",
       "      <td>0</td>\n",
       "      <td>0</td>\n",
       "      <td>0</td>\n",
       "      <td>0</td>\n",
       "      <td>0</td>\n",
       "      <td>0</td>\n",
       "      <td>0</td>\n",
       "      <td>...</td>\n",
       "      <td>0</td>\n",
       "      <td>0</td>\n",
       "      <td>0</td>\n",
       "      <td>0</td>\n",
       "      <td>0</td>\n",
       "      <td>0</td>\n",
       "      <td>0</td>\n",
       "      <td>0</td>\n",
       "      <td>0</td>\n",
       "      <td>0</td>\n",
       "    </tr>\n",
       "    <tr>\n",
       "      <th>4</th>\n",
       "      <td>0</td>\n",
       "      <td>0</td>\n",
       "      <td>0</td>\n",
       "      <td>0</td>\n",
       "      <td>0</td>\n",
       "      <td>0</td>\n",
       "      <td>0</td>\n",
       "      <td>0</td>\n",
       "      <td>0</td>\n",
       "      <td>0</td>\n",
       "      <td>...</td>\n",
       "      <td>0</td>\n",
       "      <td>0</td>\n",
       "      <td>0</td>\n",
       "      <td>0</td>\n",
       "      <td>0</td>\n",
       "      <td>0</td>\n",
       "      <td>0</td>\n",
       "      <td>0</td>\n",
       "      <td>0</td>\n",
       "      <td>0</td>\n",
       "    </tr>\n",
       "  </tbody>\n",
       "</table>\n",
       "<p>5 rows × 784 columns</p>\n",
       "</div>"
      ],
      "text/plain": [
       "   1x1  1x2  1x3  1x4  1x5  1x6  1x7  1x8  1x9  1x10  ...  28x19  28x20  \\\n",
       "0    0    0    0    0    0    0    0    0    0     0  ...      0      0   \n",
       "1    0    0    0    0    0    0    0    0    0     0  ...      0      0   \n",
       "2    0    0    0    0    0    0    0    0    0     0  ...      0      0   \n",
       "3    0    0    0    0    0    0    0    0    0     0  ...      0      0   \n",
       "4    0    0    0    0    0    0    0    0    0     0  ...      0      0   \n",
       "\n",
       "   28x21  28x22  28x23  28x24  28x25  28x26  28x27  28x28  \n",
       "0      0      0      0      0      0      0      0      0  \n",
       "1      0      0      0      0      0      0      0      0  \n",
       "2      0      0      0      0      0      0      0      0  \n",
       "3      0      0      0      0      0      0      0      0  \n",
       "4      0      0      0      0      0      0      0      0  \n",
       "\n",
       "[5 rows x 784 columns]"
      ]
     },
     "execution_count": 5,
     "metadata": {},
     "output_type": "execute_result"
    }
   ],
   "source": [
    "df_test.head()"
   ]
  },
  {
   "cell_type": "code",
   "execution_count": 6,
   "id": "e44855b4-1e98-441d-8a59-c773eaf9be6c",
   "metadata": {},
   "outputs": [
    {
     "data": {
      "text/plain": [
       "(60000, 785)"
      ]
     },
     "execution_count": 6,
     "metadata": {},
     "output_type": "execute_result"
    }
   ],
   "source": [
    "df_train.shape"
   ]
  },
  {
   "cell_type": "code",
   "execution_count": 7,
   "id": "40068625-cf39-4a16-aeb6-73a1d0ba95f7",
   "metadata": {},
   "outputs": [
    {
     "data": {
      "text/plain": [
       "(10000, 784)"
      ]
     },
     "execution_count": 7,
     "metadata": {},
     "output_type": "execute_result"
    }
   ],
   "source": [
    "df_test.shape"
   ]
  },
  {
   "cell_type": "code",
   "execution_count": 8,
   "id": "08caf004-203d-48c3-9c54-9896832ca459",
   "metadata": {},
   "outputs": [
    {
     "name": "stdout",
     "output_type": "stream",
     "text": [
      "(10000, 784)\n"
     ]
    }
   ],
   "source": [
    "df_features = df_train.iloc[:,1:785] #indepen\n",
    "df_labels = df_train.iloc[:,0] #depen\n",
    "\n",
    "x_test = df_test.iloc[:,0:784]\n",
    "\n",
    "print(x_test.shape)"
   ]
  },
  {
   "cell_type": "code",
   "execution_count": 9,
   "id": "24a12abd-1551-4ccf-a7fd-a209d2ea62a1",
   "metadata": {},
   "outputs": [],
   "source": [
    "from sklearn.model_selection import train_test_split\n",
    "x_train,x_cv,y_train,y_cv = train_test_split(df_features,df_labels,test_size=0.2,random_state=1212)\n",
    "\n",
    "# x_cv - is the validation data"
   ]
  },
  {
   "cell_type": "code",
   "execution_count": 10,
   "id": "1ef4e3b0-985b-4308-b3b7-2279391b348b",
   "metadata": {},
   "outputs": [
    {
     "data": {
      "text/plain": [
       "(12000,)"
      ]
     },
     "execution_count": 10,
     "metadata": {},
     "output_type": "execute_result"
    }
   ],
   "source": [
    "x_train.shape #(48000, 784)\n",
    "y_train.shape #(48000,)\n",
    "x_cv.shape    # (12000,784)\n",
    "y_cv.shape    # (12000,"
   ]
  },
  {
   "cell_type": "code",
   "execution_count": 11,
   "id": "b22fb432-54ff-4eaf-8802-5487e51316bc",
   "metadata": {},
   "outputs": [],
   "source": [
    "x_train = x_train.values.reshape(48000, 784)\n",
    "x_cv = x_cv.values.reshape(12000, 784)\n",
    "x_test = x_test.values.reshape(10000, 784)\n"
   ]
  },
  {
   "cell_type": "code",
   "execution_count": 12,
   "id": "22e87c27-21ea-4481-8de2-da6bbbd7dcc9",
   "metadata": {},
   "outputs": [
    {
     "name": "stdout",
     "output_type": "stream",
     "text": [
      "(0, 255)\n"
     ]
    }
   ],
   "source": [
    "print((min(x_train[1]) , max(x_train[1])))\n",
    "# min pixel value and max , grey scale img and value of this im are from 0 to 255"
   ]
  },
  {
   "cell_type": "code",
   "execution_count": 13,
   "id": "3e3e5258-76ff-4222-a81d-977e7ee0c494",
   "metadata": {},
   "outputs": [],
   "source": [
    "# feature normalization\n",
    "x_train = x_train.astype('float32')\n",
    "x_cv = x_cv.astype('float32')\n",
    "x_test = x_test.astype('float32')\n",
    "x_train /= 255\n",
    "x_cv /= 255\n",
    "x_test /= 255\n"
   ]
  },
  {
   "cell_type": "code",
   "execution_count": 14,
   "id": "168a248f-6af7-490e-825e-cd98be210529",
   "metadata": {},
   "outputs": [],
   "source": [
    "# convetr labels to one hot encoding\n",
    "num_digits = 10\n",
    "y_train = keras.utils.to_categorical(y_train,num_digits)\n",
    "y_cv = keras.utils.to_categorical(y_cv,num_digits)"
   ]
  },
  {
   "cell_type": "code",
   "execution_count": 15,
   "id": "f8999e96-0f8b-416a-bb2a-494d54c20bfb",
   "metadata": {},
   "outputs": [
    {
     "data": {
      "text/plain": [
       "array([0., 1., 0., 0., 0., 0., 0., 0., 0., 0.], dtype=float32)"
      ]
     },
     "execution_count": 15,
     "metadata": {},
     "output_type": "execute_result"
    }
   ],
   "source": [
    "y_train[0]"
   ]
  },
  {
   "cell_type": "code",
   "execution_count": 16,
   "id": "08240624-9824-4d1c-80f5-9eff7a6f0f4e",
   "metadata": {},
   "outputs": [
    {
     "data": {
      "text/plain": [
       "array([0., 0., 0., 0., 0., 1., 0., 0., 0., 0.], dtype=float32)"
      ]
     },
     "execution_count": 16,
     "metadata": {},
     "output_type": "execute_result"
    }
   ],
   "source": [
    "y_train[1]"
   ]
  },
  {
   "cell_type": "code",
   "execution_count": 17,
   "id": "8b3e7541-bd8d-4500-8436-d155972b4731",
   "metadata": {},
   "outputs": [],
   "source": [
    "n_input = 784\n",
    "n_hiddien_1 = 300\n",
    "n_hiddien_2 = 100\n",
    "n_hiddien_3 = 100\n",
    "n_hiddien_4 = 200\n",
    "num_digits = 10"
   ]
  },
  {
   "cell_type": "code",
   "execution_count": 18,
   "id": "fe84534f-e65f-412a-b91c-b0112257d802",
   "metadata": {},
   "outputs": [],
   "source": [
    "# Model1\n",
    "\n",
    "inp = Input(shape=(784,))\n",
    "x =  Dense(n_hiddien_1 , activation='relu',name = 'Hidden_Layer_1')(inp)\n",
    "x =  Dense(n_hiddien_2 , activation='relu',name = 'Hidden_Layer_2')(x)\n",
    "x =  Dense(n_hiddien_3 , activation='relu',name = 'Hidden_Layer_3')(x)\n",
    "x =  Dense(n_hiddien_4 , activation='relu',name = 'Hidden_Layer_4')(x)\n",
    "output = Dense(num_digits , activation = 'softmax' , name = 'Outpur_layer')(x)"
   ]
  },
  {
   "cell_type": "code",
   "execution_count": 19,
   "id": "26d0f171-5533-4737-bf92-927770eda508",
   "metadata": {},
   "outputs": [
    {
     "name": "stdout",
     "output_type": "stream",
     "text": [
      "Model: \"model\"\n",
      "_________________________________________________________________\n",
      " Layer (type)                Output Shape              Param #   \n",
      "=================================================================\n",
      " input_1 (InputLayer)        [(None, 784)]             0         \n",
      "                                                                 \n",
      " Hidden_Layer_1 (Dense)      (None, 300)               235500    \n",
      "                                                                 \n",
      " Hidden_Layer_2 (Dense)      (None, 100)               30100     \n",
      "                                                                 \n",
      " Hidden_Layer_3 (Dense)      (None, 100)               10100     \n",
      "                                                                 \n",
      " Hidden_Layer_4 (Dense)      (None, 200)               20200     \n",
      "                                                                 \n",
      " Outpur_layer (Dense)        (None, 10)                2010      \n",
      "                                                                 \n",
      "=================================================================\n",
      "Total params: 297910 (1.14 MB)\n",
      "Trainable params: 297910 (1.14 MB)\n",
      "Non-trainable params: 0 (0.00 Byte)\n",
      "_________________________________________________________________\n"
     ]
    }
   ],
   "source": [
    "model = Model(inp,output)\n",
    "model.summary()"
   ]
  },
  {
   "cell_type": "code",
   "execution_count": 20,
   "id": "eb0da18e-383d-4b9d-a41b-f86bf08bb923",
   "metadata": {},
   "outputs": [],
   "source": [
    "learning_rate = 0.1\n",
    "training_epochs = 20\n",
    "batch_size = 100\n",
    "sgd = optimizers.SGD(learning_rate = learning_rate)"
   ]
  },
  {
   "cell_type": "code",
   "execution_count": 21,
   "id": "dd095ef3-bb6c-426a-93e7-b0f7f162ec01",
   "metadata": {},
   "outputs": [],
   "source": [
    "model.compile(loss = 'categorical_crossentropy',\n",
    "              optimizer='sgd',\n",
    "              metrics= ['accuracy'])"
   ]
  },
  {
   "cell_type": "code",
   "execution_count": 22,
   "id": "1ea0c290-d0b6-4e8a-9720-d00bde65c6ff",
   "metadata": {},
   "outputs": [
    {
     "name": "stdout",
     "output_type": "stream",
     "text": [
      "Epoch 1/20\n",
      "480/480 - 5s - loss: 1.5588 - accuracy: 0.5671 - val_loss: 0.6451 - val_accuracy: 0.8202 - 5s/epoch - 10ms/step\n",
      "Epoch 2/20\n",
      "480/480 - 3s - loss: 0.4726 - accuracy: 0.8676 - val_loss: 0.3712 - val_accuracy: 0.8923 - 3s/epoch - 7ms/step\n",
      "Epoch 3/20\n",
      "480/480 - 3s - loss: 0.3398 - accuracy: 0.9025 - val_loss: 0.2984 - val_accuracy: 0.9115 - 3s/epoch - 7ms/step\n",
      "Epoch 4/20\n",
      "480/480 - 3s - loss: 0.2897 - accuracy: 0.9169 - val_loss: 0.2636 - val_accuracy: 0.9223 - 3s/epoch - 7ms/step\n",
      "Epoch 5/20\n",
      "480/480 - 3s - loss: 0.2575 - accuracy: 0.9258 - val_loss: 0.2374 - val_accuracy: 0.9297 - 3s/epoch - 7ms/step\n",
      "Epoch 6/20\n",
      "480/480 - 3s - loss: 0.2330 - accuracy: 0.9337 - val_loss: 0.2138 - val_accuracy: 0.9355 - 3s/epoch - 7ms/step\n",
      "Epoch 7/20\n",
      "480/480 - 3s - loss: 0.2119 - accuracy: 0.9391 - val_loss: 0.2003 - val_accuracy: 0.9390 - 3s/epoch - 7ms/step\n",
      "Epoch 8/20\n",
      "480/480 - 3s - loss: 0.1951 - accuracy: 0.9443 - val_loss: 0.1861 - val_accuracy: 0.9440 - 3s/epoch - 7ms/step\n",
      "Epoch 9/20\n",
      "480/480 - 3s - loss: 0.1799 - accuracy: 0.9489 - val_loss: 0.1721 - val_accuracy: 0.9470 - 3s/epoch - 7ms/step\n",
      "Epoch 10/20\n",
      "480/480 - 3s - loss: 0.1669 - accuracy: 0.9522 - val_loss: 0.1648 - val_accuracy: 0.9501 - 3s/epoch - 7ms/step\n",
      "Epoch 11/20\n",
      "480/480 - 3s - loss: 0.1555 - accuracy: 0.9554 - val_loss: 0.1570 - val_accuracy: 0.9513 - 3s/epoch - 7ms/step\n",
      "Epoch 12/20\n",
      "480/480 - 3s - loss: 0.1453 - accuracy: 0.9579 - val_loss: 0.1440 - val_accuracy: 0.9548 - 3s/epoch - 7ms/step\n",
      "Epoch 13/20\n",
      "480/480 - 3s - loss: 0.1361 - accuracy: 0.9614 - val_loss: 0.1367 - val_accuracy: 0.9580 - 3s/epoch - 7ms/step\n",
      "Epoch 14/20\n",
      "480/480 - 3s - loss: 0.1282 - accuracy: 0.9627 - val_loss: 0.1291 - val_accuracy: 0.9601 - 3s/epoch - 7ms/step\n",
      "Epoch 15/20\n",
      "480/480 - 3s - loss: 0.1206 - accuracy: 0.9659 - val_loss: 0.1259 - val_accuracy: 0.9603 - 3s/epoch - 7ms/step\n",
      "Epoch 16/20\n",
      "480/480 - 3s - loss: 0.1139 - accuracy: 0.9674 - val_loss: 0.1189 - val_accuracy: 0.9635 - 3s/epoch - 7ms/step\n",
      "Epoch 17/20\n",
      "480/480 - 3s - loss: 0.1076 - accuracy: 0.9696 - val_loss: 0.1166 - val_accuracy: 0.9639 - 3s/epoch - 6ms/step\n",
      "Epoch 18/20\n",
      "480/480 - 3s - loss: 0.1021 - accuracy: 0.9712 - val_loss: 0.1182 - val_accuracy: 0.9628 - 3s/epoch - 7ms/step\n",
      "Epoch 19/20\n",
      "480/480 - 3s - loss: 0.0968 - accuracy: 0.9720 - val_loss: 0.1096 - val_accuracy: 0.9663 - 3s/epoch - 7ms/step\n",
      "Epoch 20/20\n",
      "480/480 - 3s - loss: 0.0924 - accuracy: 0.9740 - val_loss: 0.1050 - val_accuracy: 0.9668 - 3s/epoch - 7ms/step\n"
     ]
    }
   ],
   "source": [
    "history1 = model.fit(x_train,y_train,\n",
    "                    batch_size = batch_size,\n",
    "                    epochs= training_epochs,\n",
    "                    verbose= 2,\n",
    "                    validation_data= (x_cv,y_cv))"
   ]
  },
  {
   "cell_type": "code",
   "execution_count": 23,
   "id": "38a83cfe-0602-40ad-8762-de25d9760521",
   "metadata": {},
   "outputs": [],
   "source": [
    "# Model2\n",
    "\n",
    "inp = Input(shape=(784,))\n",
    "x =  Dense(n_hiddien_1 , activation='relu',name = 'Hidden_Layer_1')(inp)\n",
    "x =  Dense(n_hiddien_2 , activation='relu',name = 'Hidden_Layer_2')(x)\n",
    "x =  Dense(n_hiddien_3 , activation='relu',name = 'Hidden_Layer_3')(x)\n",
    "x =  Dense(n_hiddien_4 , activation='relu',name = 'Hidden_Layer_4')(x)\n",
    "output = Dense(num_digits , activation = 'softmax' , name = 'Outpur_layer')(x)\n",
    "\n",
    "adam = keras.optimizers.Adam(learning_rate = learning_rate)\n",
    "model2 = Model(inp,output)\n",
    "\n",
    "model2.compile(loss = 'categorical_crossentropy',\n",
    "              optimizer='adam',\n",
    "              metrics= ['accuracy'])"
   ]
  },
  {
   "cell_type": "code",
   "execution_count": 24,
   "id": "a0853d07-5930-47c5-8adb-b9d1813ca9ed",
   "metadata": {},
   "outputs": [
    {
     "name": "stdout",
     "output_type": "stream",
     "text": [
      "Epoch 1/20\n",
      "480/480 - 6s - loss: 0.2925 - accuracy: 0.9130 - val_loss: 0.1287 - val_accuracy: 0.9609 - 6s/epoch - 13ms/step\n",
      "Epoch 2/20\n",
      "480/480 - 4s - loss: 0.1123 - accuracy: 0.9659 - val_loss: 0.0918 - val_accuracy: 0.9714 - 4s/epoch - 8ms/step\n",
      "Epoch 3/20\n",
      "480/480 - 4s - loss: 0.0734 - accuracy: 0.9770 - val_loss: 0.0880 - val_accuracy: 0.9735 - 4s/epoch - 8ms/step\n",
      "Epoch 4/20\n",
      "480/480 - 4s - loss: 0.0550 - accuracy: 0.9825 - val_loss: 0.0857 - val_accuracy: 0.9732 - 4s/epoch - 8ms/step\n",
      "Epoch 5/20\n",
      "480/480 - 4s - loss: 0.0430 - accuracy: 0.9862 - val_loss: 0.0844 - val_accuracy: 0.9747 - 4s/epoch - 8ms/step\n",
      "Epoch 6/20\n",
      "480/480 - 4s - loss: 0.0348 - accuracy: 0.9888 - val_loss: 0.0868 - val_accuracy: 0.9781 - 4s/epoch - 8ms/step\n",
      "Epoch 7/20\n",
      "480/480 - 4s - loss: 0.0294 - accuracy: 0.9906 - val_loss: 0.0859 - val_accuracy: 0.9773 - 4s/epoch - 8ms/step\n",
      "Epoch 8/20\n",
      "480/480 - 4s - loss: 0.0258 - accuracy: 0.9916 - val_loss: 0.0887 - val_accuracy: 0.9781 - 4s/epoch - 8ms/step\n",
      "Epoch 9/20\n",
      "480/480 - 3s - loss: 0.0259 - accuracy: 0.9913 - val_loss: 0.0725 - val_accuracy: 0.9802 - 3s/epoch - 7ms/step\n",
      "Epoch 10/20\n",
      "480/480 - 4s - loss: 0.0191 - accuracy: 0.9938 - val_loss: 0.0892 - val_accuracy: 0.9768 - 4s/epoch - 7ms/step\n",
      "Epoch 11/20\n",
      "480/480 - 4s - loss: 0.0200 - accuracy: 0.9935 - val_loss: 0.0870 - val_accuracy: 0.9774 - 4s/epoch - 8ms/step\n",
      "Epoch 12/20\n",
      "480/480 - 4s - loss: 0.0174 - accuracy: 0.9946 - val_loss: 0.0882 - val_accuracy: 0.9799 - 4s/epoch - 8ms/step\n",
      "Epoch 13/20\n",
      "480/480 - 4s - loss: 0.0154 - accuracy: 0.9951 - val_loss: 0.0929 - val_accuracy: 0.9780 - 4s/epoch - 8ms/step\n",
      "Epoch 14/20\n",
      "480/480 - 4s - loss: 0.0151 - accuracy: 0.9954 - val_loss: 0.0996 - val_accuracy: 0.9778 - 4s/epoch - 8ms/step\n",
      "Epoch 15/20\n",
      "480/480 - 4s - loss: 0.0157 - accuracy: 0.9951 - val_loss: 0.1239 - val_accuracy: 0.9762 - 4s/epoch - 8ms/step\n",
      "Epoch 16/20\n",
      "480/480 - 4s - loss: 0.0155 - accuracy: 0.9949 - val_loss: 0.0924 - val_accuracy: 0.9799 - 4s/epoch - 8ms/step\n",
      "Epoch 17/20\n",
      "480/480 - 4s - loss: 0.0157 - accuracy: 0.9950 - val_loss: 0.0844 - val_accuracy: 0.9799 - 4s/epoch - 8ms/step\n",
      "Epoch 18/20\n",
      "480/480 - 4s - loss: 0.0077 - accuracy: 0.9975 - val_loss: 0.1185 - val_accuracy: 0.9763 - 4s/epoch - 8ms/step\n",
      "Epoch 19/20\n",
      "480/480 - 4s - loss: 0.0103 - accuracy: 0.9969 - val_loss: 0.1004 - val_accuracy: 0.9797 - 4s/epoch - 8ms/step\n",
      "Epoch 20/20\n",
      "480/480 - 4s - loss: 0.0155 - accuracy: 0.9955 - val_loss: 0.0911 - val_accuracy: 0.9784 - 4s/epoch - 8ms/step\n"
     ]
    }
   ],
   "source": [
    "history2 = model2.fit(x_train,y_train,\n",
    "                    batch_size = batch_size,\n",
    "                    epochs= training_epochs,\n",
    "                    verbose= 2,\n",
    "                    validation_data= (x_cv,y_cv))"
   ]
  },
  {
   "cell_type": "code",
   "execution_count": 25,
   "id": "b92c920c-3ff3-44d6-8e9b-c96566992016",
   "metadata": {},
   "outputs": [],
   "source": [
    "# Model2a\n",
    "\n",
    "inp = Input(shape=(784,))\n",
    "x =  Dense(n_hiddien_1 , activation='relu',name = 'Hidden_Layer_1')(inp)\n",
    "x =  Dense(n_hiddien_2 , activation='relu',name = 'Hidden_Layer_2')(x)\n",
    "x =  Dense(n_hiddien_3 , activation='relu',name = 'Hidden_Layer_3')(x)\n",
    "x =  Dense(n_hiddien_4 , activation='relu',name = 'Hidden_Layer_4')(x)\n",
    "output = Dense(num_digits , activation = 'softmax' , name = 'Outpur_layer')(x)\n",
    "\n",
    "learning_rate = 0.01\n",
    "adam = keras.optimizers.Adam(learning_rate = learning_rate)\n",
    "model2a = Model(inp,output)\n",
    "\n",
    "model2a.compile(loss = 'categorical_crossentropy',\n",
    "              optimizer='adam',\n",
    "              metrics= ['accuracy'])"
   ]
  },
  {
   "cell_type": "code",
   "execution_count": 26,
   "id": "6da6c62d-6984-4c77-8ac5-20cb7ea0ba47",
   "metadata": {},
   "outputs": [
    {
     "name": "stdout",
     "output_type": "stream",
     "text": [
      "Epoch 1/20\n",
      "480/480 - 6s - loss: 0.2896 - accuracy: 0.9141 - val_loss: 0.1418 - val_accuracy: 0.9580 - 6s/epoch - 13ms/step\n",
      "Epoch 2/20\n",
      "480/480 - 4s - loss: 0.1119 - accuracy: 0.9657 - val_loss: 0.0899 - val_accuracy: 0.9714 - 4s/epoch - 8ms/step\n",
      "Epoch 3/20\n",
      "480/480 - 4s - loss: 0.0739 - accuracy: 0.9773 - val_loss: 0.0972 - val_accuracy: 0.9703 - 4s/epoch - 8ms/step\n",
      "Epoch 4/20\n",
      "480/480 - 4s - loss: 0.0559 - accuracy: 0.9825 - val_loss: 0.0748 - val_accuracy: 0.9781 - 4s/epoch - 8ms/step\n",
      "Epoch 5/20\n",
      "480/480 - 4s - loss: 0.0446 - accuracy: 0.9851 - val_loss: 0.0721 - val_accuracy: 0.9797 - 4s/epoch - 8ms/step\n",
      "Epoch 6/20\n",
      "480/480 - 4s - loss: 0.0336 - accuracy: 0.9893 - val_loss: 0.0907 - val_accuracy: 0.9761 - 4s/epoch - 8ms/step\n",
      "Epoch 7/20\n",
      "480/480 - 4s - loss: 0.0334 - accuracy: 0.9895 - val_loss: 0.0901 - val_accuracy: 0.9762 - 4s/epoch - 8ms/step\n",
      "Epoch 8/20\n",
      "480/480 - 4s - loss: 0.0258 - accuracy: 0.9914 - val_loss: 0.0799 - val_accuracy: 0.9804 - 4s/epoch - 8ms/step\n",
      "Epoch 9/20\n",
      "480/480 - 4s - loss: 0.0256 - accuracy: 0.9921 - val_loss: 0.0775 - val_accuracy: 0.9796 - 4s/epoch - 8ms/step\n",
      "Epoch 10/20\n",
      "480/480 - 4s - loss: 0.0180 - accuracy: 0.9944 - val_loss: 0.0813 - val_accuracy: 0.9799 - 4s/epoch - 8ms/step\n",
      "Epoch 11/20\n",
      "480/480 - 4s - loss: 0.0188 - accuracy: 0.9937 - val_loss: 0.0826 - val_accuracy: 0.9812 - 4s/epoch - 8ms/step\n",
      "Epoch 12/20\n",
      "480/480 - 4s - loss: 0.0182 - accuracy: 0.9941 - val_loss: 0.0756 - val_accuracy: 0.9801 - 4s/epoch - 8ms/step\n",
      "Epoch 13/20\n",
      "480/480 - 4s - loss: 0.0147 - accuracy: 0.9951 - val_loss: 0.1047 - val_accuracy: 0.9774 - 4s/epoch - 8ms/step\n",
      "Epoch 14/20\n",
      "480/480 - 4s - loss: 0.0174 - accuracy: 0.9948 - val_loss: 0.0820 - val_accuracy: 0.9825 - 4s/epoch - 8ms/step\n",
      "Epoch 15/20\n",
      "480/480 - 4s - loss: 0.0141 - accuracy: 0.9955 - val_loss: 0.0919 - val_accuracy: 0.9792 - 4s/epoch - 8ms/step\n",
      "Epoch 16/20\n",
      "480/480 - 4s - loss: 0.0134 - accuracy: 0.9957 - val_loss: 0.0873 - val_accuracy: 0.9799 - 4s/epoch - 8ms/step\n",
      "Epoch 17/20\n",
      "480/480 - 4s - loss: 0.0109 - accuracy: 0.9967 - val_loss: 0.1115 - val_accuracy: 0.9786 - 4s/epoch - 8ms/step\n",
      "Epoch 18/20\n",
      "480/480 - 4s - loss: 0.0138 - accuracy: 0.9958 - val_loss: 0.0954 - val_accuracy: 0.9819 - 4s/epoch - 8ms/step\n",
      "Epoch 19/20\n",
      "480/480 - 4s - loss: 0.0116 - accuracy: 0.9962 - val_loss: 0.0909 - val_accuracy: 0.9823 - 4s/epoch - 8ms/step\n",
      "Epoch 20/20\n",
      "480/480 - 4s - loss: 0.0095 - accuracy: 0.9972 - val_loss: 0.1007 - val_accuracy: 0.9812 - 4s/epoch - 8ms/step\n"
     ]
    }
   ],
   "source": [
    "history2a = model2a.fit(x_train,y_train,\n",
    "                    batch_size = batch_size,\n",
    "                    epochs= training_epochs,\n",
    "                    verbose= 2,\n",
    "                    validation_data= (x_cv,y_cv))"
   ]
  },
  {
   "cell_type": "code",
   "execution_count": 27,
   "id": "3b7447a3-3c6e-49b9-bc23-3d433f6f7817",
   "metadata": {},
   "outputs": [],
   "source": [
    "\n",
    "# Model2b\n",
    "\n",
    "inp = Input(shape=(784,))\n",
    "x =  Dense(n_hiddien_1 , activation='relu',name = 'Hidden_Layer_1')(inp)\n",
    "x =  Dense(n_hiddien_2 , activation='relu',name = 'Hidden_Layer_2')(x)\n",
    "x =  Dense(n_hiddien_3 , activation='relu',name = 'Hidden_Layer_3')(x)\n",
    "x =  Dense(n_hiddien_4 , activation='relu',name = 'Hidden_Layer_4')(x)\n",
    "output = Dense(num_digits , activation = 'softmax' , name = 'Outpur_layer')(x)\n",
    "\n",
    "learning_rate = 0.5\n",
    "adam = keras.optimizers.Adam(learning_rate = learning_rate)\n",
    "model2b = Model(inp,output)\n",
    "\n",
    "model2b.compile(loss = 'categorical_crossentropy',\n",
    "              optimizer='adam',\n",
    "              metrics= ['accuracy'])"
   ]
  },
  {
   "cell_type": "code",
   "execution_count": 28,
   "id": "add720ef-dad4-4fbc-8548-e51e028fc664",
   "metadata": {},
   "outputs": [
    {
     "name": "stdout",
     "output_type": "stream",
     "text": [
      "Epoch 1/20\n",
      "480/480 - 6s - loss: 0.2947 - accuracy: 0.9121 - val_loss: 0.1392 - val_accuracy: 0.9572 - 6s/epoch - 13ms/step\n",
      "Epoch 2/20\n",
      "480/480 - 4s - loss: 0.1125 - accuracy: 0.9656 - val_loss: 0.1076 - val_accuracy: 0.9669 - 4s/epoch - 8ms/step\n",
      "Epoch 3/20\n",
      "480/480 - 4s - loss: 0.0752 - accuracy: 0.9769 - val_loss: 0.0898 - val_accuracy: 0.9718 - 4s/epoch - 8ms/step\n",
      "Epoch 4/20\n",
      "480/480 - 4s - loss: 0.0551 - accuracy: 0.9823 - val_loss: 0.0826 - val_accuracy: 0.9747 - 4s/epoch - 8ms/step\n",
      "Epoch 5/20\n",
      "480/480 - 4s - loss: 0.0441 - accuracy: 0.9856 - val_loss: 0.0868 - val_accuracy: 0.9753 - 4s/epoch - 8ms/step\n",
      "Epoch 6/20\n",
      "480/480 - 4s - loss: 0.0354 - accuracy: 0.9884 - val_loss: 0.0906 - val_accuracy: 0.9751 - 4s/epoch - 8ms/step\n",
      "Epoch 7/20\n",
      "480/480 - 4s - loss: 0.0279 - accuracy: 0.9909 - val_loss: 0.0752 - val_accuracy: 0.9803 - 4s/epoch - 8ms/step\n",
      "Epoch 8/20\n",
      "480/480 - 4s - loss: 0.0278 - accuracy: 0.9910 - val_loss: 0.0863 - val_accuracy: 0.9774 - 4s/epoch - 8ms/step\n",
      "Epoch 9/20\n",
      "480/480 - 4s - loss: 0.0226 - accuracy: 0.9926 - val_loss: 0.0963 - val_accuracy: 0.9766 - 4s/epoch - 8ms/step\n",
      "Epoch 10/20\n",
      "480/480 - 4s - loss: 0.0211 - accuracy: 0.9931 - val_loss: 0.0842 - val_accuracy: 0.9778 - 4s/epoch - 8ms/step\n",
      "Epoch 11/20\n",
      "480/480 - 4s - loss: 0.0198 - accuracy: 0.9937 - val_loss: 0.0777 - val_accuracy: 0.9809 - 4s/epoch - 8ms/step\n",
      "Epoch 12/20\n",
      "480/480 - 4s - loss: 0.0182 - accuracy: 0.9942 - val_loss: 0.0957 - val_accuracy: 0.9788 - 4s/epoch - 8ms/step\n",
      "Epoch 13/20\n",
      "480/480 - 4s - loss: 0.0198 - accuracy: 0.9933 - val_loss: 0.0872 - val_accuracy: 0.9786 - 4s/epoch - 8ms/step\n",
      "Epoch 14/20\n",
      "480/480 - 4s - loss: 0.0141 - accuracy: 0.9956 - val_loss: 0.0934 - val_accuracy: 0.9797 - 4s/epoch - 8ms/step\n",
      "Epoch 15/20\n",
      "480/480 - 4s - loss: 0.0153 - accuracy: 0.9955 - val_loss: 0.0789 - val_accuracy: 0.9822 - 4s/epoch - 8ms/step\n",
      "Epoch 16/20\n",
      "480/480 - 4s - loss: 0.0129 - accuracy: 0.9959 - val_loss: 0.1263 - val_accuracy: 0.9743 - 4s/epoch - 8ms/step\n",
      "Epoch 17/20\n",
      "480/480 - 4s - loss: 0.0134 - accuracy: 0.9955 - val_loss: 0.0997 - val_accuracy: 0.9795 - 4s/epoch - 8ms/step\n",
      "Epoch 18/20\n",
      "480/480 - 4s - loss: 0.0118 - accuracy: 0.9960 - val_loss: 0.0988 - val_accuracy: 0.9772 - 4s/epoch - 8ms/step\n",
      "Epoch 19/20\n",
      "480/480 - 4s - loss: 0.0126 - accuracy: 0.9963 - val_loss: 0.0976 - val_accuracy: 0.9813 - 4s/epoch - 8ms/step\n",
      "Epoch 20/20\n",
      "480/480 - 4s - loss: 0.0109 - accuracy: 0.9964 - val_loss: 0.1047 - val_accuracy: 0.9781 - 4s/epoch - 8ms/step\n"
     ]
    }
   ],
   "source": [
    "history2b = model2b.fit(x_train,y_train,\n",
    "                    batch_size = batch_size,\n",
    "                    epochs= training_epochs,\n",
    "                    verbose= 2,\n",
    "                    validation_data= (x_cv,y_cv))"
   ]
  },
  {
   "cell_type": "code",
   "execution_count": 29,
   "id": "da99998b-814c-484d-bd75-7e71d4db0204",
   "metadata": {},
   "outputs": [],
   "source": [
    "# Model3"
   ]
  },
  {
   "cell_type": "code",
   "execution_count": 30,
   "id": "f1606e62-0f70-4004-b19e-966b0e3030f4",
   "metadata": {},
   "outputs": [],
   "source": [
    "n_input = 784\n",
    "n_hiddien_1 = 300\n",
    "n_hiddien_2 = 100\n",
    "n_hiddien_3 = 100\n",
    "n_hiddien_4 = 100\n",
    "n_hiddien_5 = 200\n",
    "num_digits = 10"
   ]
  },
  {
   "cell_type": "code",
   "execution_count": 31,
   "id": "53915eba-79c3-4446-b765-bb2cd26582c5",
   "metadata": {},
   "outputs": [],
   "source": [
    "# Model3\n",
    "\n",
    "inp = Input(shape=(784,))\n",
    "x =  Dense(n_hiddien_1 , activation='relu',name = 'Hidden_Layer_1')(inp)\n",
    "x =  Dense(n_hiddien_2 , activation='relu',name = 'Hidden_Layer_2')(x)\n",
    "x =  Dense(n_hiddien_3 , activation='relu',name = 'Hidden_Layer_3')(x)\n",
    "x =  Dense(n_hiddien_4 , activation='relu',name = 'Hidden_Layer_4')(x)\n",
    "x =  Dense(n_hiddien_5 , activation='relu',name = 'Hidden_Layer_5')(x)\n",
    "output = Dense(num_digits , activation = 'softmax' , name = 'Outpur_layer')(x)"
   ]
  },
  {
   "cell_type": "code",
   "execution_count": 32,
   "id": "16bbd19a-d4ee-46ee-9a26-de168112f440",
   "metadata": {},
   "outputs": [
    {
     "name": "stdout",
     "output_type": "stream",
     "text": [
      "Model: \"model_4\"\n",
      "_________________________________________________________________\n",
      " Layer (type)                Output Shape              Param #   \n",
      "=================================================================\n",
      " input_5 (InputLayer)        [(None, 784)]             0         \n",
      "                                                                 \n",
      " Hidden_Layer_1 (Dense)      (None, 300)               235500    \n",
      "                                                                 \n",
      " Hidden_Layer_2 (Dense)      (None, 100)               30100     \n",
      "                                                                 \n",
      " Hidden_Layer_3 (Dense)      (None, 100)               10100     \n",
      "                                                                 \n",
      " Hidden_Layer_4 (Dense)      (None, 100)               10100     \n",
      "                                                                 \n",
      " Hidden_Layer_5 (Dense)      (None, 200)               20200     \n",
      "                                                                 \n",
      " Outpur_layer (Dense)        (None, 10)                2010      \n",
      "                                                                 \n",
      "=================================================================\n",
      "Total params: 308010 (1.17 MB)\n",
      "Trainable params: 308010 (1.17 MB)\n",
      "Non-trainable params: 0 (0.00 Byte)\n",
      "_________________________________________________________________\n"
     ]
    }
   ],
   "source": [
    "model3 = Model(inp,output)\n",
    "model3.summary()"
   ]
  },
  {
   "cell_type": "code",
   "execution_count": 33,
   "id": "be8e34fe-fe00-40b5-a8b0-b285f2c813ad",
   "metadata": {},
   "outputs": [],
   "source": [
    "adam = keras.optimizers.Adam(learning_rate = 0.01)\n",
    "\n",
    "model3.compile(loss = 'categorical_crossentropy',\n",
    "              optimizer='adam',\n",
    "              metrics= ['accuracy'])"
   ]
  },
  {
   "cell_type": "code",
   "execution_count": 34,
   "id": "969ca5cb-1fe5-4c01-835d-f13883def2cf",
   "metadata": {},
   "outputs": [
    {
     "name": "stdout",
     "output_type": "stream",
     "text": [
      "Epoch 1/20\n",
      "480/480 [==============================] - 7s 10ms/step - loss: 0.2977 - accuracy: 0.9115 - val_loss: 0.1322 - val_accuracy: 0.9598\n",
      "Epoch 2/20\n",
      "480/480 [==============================] - 4s 9ms/step - loss: 0.1101 - accuracy: 0.9665 - val_loss: 0.0950 - val_accuracy: 0.9694\n",
      "Epoch 3/20\n",
      "480/480 [==============================] - 5s 9ms/step - loss: 0.0779 - accuracy: 0.9753 - val_loss: 0.1002 - val_accuracy: 0.9685\n",
      "Epoch 4/20\n",
      "480/480 [==============================] - 4s 9ms/step - loss: 0.0570 - accuracy: 0.9818 - val_loss: 0.0810 - val_accuracy: 0.9772\n",
      "Epoch 5/20\n",
      "480/480 [==============================] - 4s 9ms/step - loss: 0.0437 - accuracy: 0.9859 - val_loss: 0.0918 - val_accuracy: 0.9729\n",
      "Epoch 6/20\n",
      "480/480 [==============================] - 4s 9ms/step - loss: 0.0362 - accuracy: 0.9884 - val_loss: 0.0842 - val_accuracy: 0.9765\n",
      "Epoch 7/20\n",
      "480/480 [==============================] - 4s 9ms/step - loss: 0.0363 - accuracy: 0.9885 - val_loss: 0.0803 - val_accuracy: 0.9778\n",
      "Epoch 8/20\n",
      "480/480 [==============================] - 4s 9ms/step - loss: 0.0293 - accuracy: 0.9906 - val_loss: 0.0887 - val_accuracy: 0.9783\n",
      "Epoch 9/20\n",
      "480/480 [==============================] - 4s 9ms/step - loss: 0.0251 - accuracy: 0.9915 - val_loss: 0.0780 - val_accuracy: 0.9807\n",
      "Epoch 10/20\n",
      "480/480 [==============================] - 4s 9ms/step - loss: 0.0219 - accuracy: 0.9929 - val_loss: 0.0976 - val_accuracy: 0.9764\n",
      "Epoch 11/20\n",
      "480/480 [==============================] - 4s 9ms/step - loss: 0.0214 - accuracy: 0.9931 - val_loss: 0.0909 - val_accuracy: 0.9770\n",
      "Epoch 12/20\n",
      "480/480 [==============================] - 4s 9ms/step - loss: 0.0199 - accuracy: 0.9936 - val_loss: 0.1001 - val_accuracy: 0.9765\n",
      "Epoch 13/20\n",
      "480/480 [==============================] - 4s 9ms/step - loss: 0.0190 - accuracy: 0.9937 - val_loss: 0.0938 - val_accuracy: 0.9787\n",
      "Epoch 14/20\n",
      "480/480 [==============================] - 4s 9ms/step - loss: 0.0141 - accuracy: 0.9956 - val_loss: 0.0905 - val_accuracy: 0.9819\n",
      "Epoch 15/20\n",
      "480/480 [==============================] - 4s 9ms/step - loss: 0.0177 - accuracy: 0.9947 - val_loss: 0.0869 - val_accuracy: 0.9808\n",
      "Epoch 16/20\n",
      "480/480 [==============================] - 4s 9ms/step - loss: 0.0166 - accuracy: 0.9952 - val_loss: 0.0965 - val_accuracy: 0.9777\n",
      "Epoch 17/20\n",
      "480/480 [==============================] - 4s 9ms/step - loss: 0.0145 - accuracy: 0.9957 - val_loss: 0.0852 - val_accuracy: 0.9803\n",
      "Epoch 18/20\n",
      "480/480 [==============================] - 4s 9ms/step - loss: 0.0095 - accuracy: 0.9970 - val_loss: 0.1221 - val_accuracy: 0.9777\n",
      "Epoch 19/20\n",
      "480/480 [==============================] - 4s 9ms/step - loss: 0.0142 - accuracy: 0.9956 - val_loss: 0.1028 - val_accuracy: 0.9807\n",
      "Epoch 20/20\n",
      "480/480 [==============================] - 4s 9ms/step - loss: 0.0135 - accuracy: 0.9960 - val_loss: 0.0765 - val_accuracy: 0.9840\n"
     ]
    }
   ],
   "source": [
    "history3 = model3.fit(x_train,y_train,\n",
    "                    batch_size = batch_size,\n",
    "                    epochs= training_epochs,\n",
    "                    validation_data= (x_cv,y_cv))"
   ]
  },
  {
   "cell_type": "code",
   "execution_count": 36,
   "id": "937e794e-55ad-4518-97f5-c1f8971b13dc",
   "metadata": {},
   "outputs": [],
   "source": [
    "n_input = 784\n",
    "n_hiddien_1 = 300\n",
    "n_hiddien_2 = 100\n",
    "n_hiddien_3 = 100\n",
    "n_hiddien_4 = 200\n",
    "num_digits = 10"
   ]
  },
  {
   "cell_type": "code",
   "execution_count": 37,
   "id": "82f16886-bcda-412c-954d-4ec30b64c502",
   "metadata": {},
   "outputs": [],
   "source": [
    "# Model4\n",
    "\n",
    "inp = Input(shape=(784,))\n",
    "x =  Dense(n_hiddien_1 , activation='relu',name = 'Hidden_Layer_1')(inp)\n",
    "x =  Dropout(0.3)(x)\n",
    "x =  Dense(n_hiddien_2 , activation='relu',name = 'Hidden_Layer_2')(x)\n",
    "x =  Dropout(0.3)(x)\n",
    "x =  Dense(n_hiddien_3 , activation='relu',name = 'Hidden_Layer_3')(x)\n",
    "x =  Dropout(0.3)(x)\n",
    "x =  Dense(n_hiddien_4 , activation='relu',name = 'Hidden_Layer_4')(x)\n",
    "output = Dense(num_digits , activation = 'softmax' , name = 'Outpur_layer')(x)"
   ]
  },
  {
   "cell_type": "code",
   "execution_count": 38,
   "id": "48898f08-93bf-4686-97b4-cc47e1af8847",
   "metadata": {},
   "outputs": [
    {
     "name": "stdout",
     "output_type": "stream",
     "text": [
      "Model: \"model_5\"\n",
      "_________________________________________________________________\n",
      " Layer (type)                Output Shape              Param #   \n",
      "=================================================================\n",
      " input_6 (InputLayer)        [(None, 784)]             0         \n",
      "                                                                 \n",
      " Hidden_Layer_1 (Dense)      (None, 300)               235500    \n",
      "                                                                 \n",
      " dropout (Dropout)           (None, 300)               0         \n",
      "                                                                 \n",
      " Hidden_Layer_2 (Dense)      (None, 100)               30100     \n",
      "                                                                 \n",
      " dropout_1 (Dropout)         (None, 100)               0         \n",
      "                                                                 \n",
      " Hidden_Layer_3 (Dense)      (None, 100)               10100     \n",
      "                                                                 \n",
      " dropout_2 (Dropout)         (None, 100)               0         \n",
      "                                                                 \n",
      " Hidden_Layer_4 (Dense)      (None, 200)               20200     \n",
      "                                                                 \n",
      " Outpur_layer (Dense)        (None, 10)                2010      \n",
      "                                                                 \n",
      "=================================================================\n",
      "Total params: 297910 (1.14 MB)\n",
      "Trainable params: 297910 (1.14 MB)\n",
      "Non-trainable params: 0 (0.00 Byte)\n",
      "_________________________________________________________________\n"
     ]
    }
   ],
   "source": [
    "model4 = Model(inp,output)\n",
    "model4.summary()"
   ]
  },
  {
   "cell_type": "code",
   "execution_count": 39,
   "id": "3c965b54-b35b-4942-bb52-b780f0d6c53b",
   "metadata": {},
   "outputs": [],
   "source": [
    "model4.compile(loss = 'categorical_crossentropy',\n",
    "              optimizer='adam',\n",
    "              metrics= ['accuracy'])"
   ]
  },
  {
   "cell_type": "code",
   "execution_count": 40,
   "id": "474e2444-6340-4134-b371-aa2803c24cec",
   "metadata": {},
   "outputs": [
    {
     "name": "stdout",
     "output_type": "stream",
     "text": [
      "Epoch 1/20\n",
      "480/480 [==============================] - 7s 11ms/step - loss: 0.4990 - accuracy: 0.8451 - val_loss: 0.1601 - val_accuracy: 0.9510\n",
      "Epoch 2/20\n",
      "480/480 [==============================] - 5s 10ms/step - loss: 0.2066 - accuracy: 0.9410 - val_loss: 0.1178 - val_accuracy: 0.9649\n",
      "Epoch 3/20\n",
      "480/480 [==============================] - 5s 10ms/step - loss: 0.1595 - accuracy: 0.9547 - val_loss: 0.0892 - val_accuracy: 0.9731\n",
      "Epoch 4/20\n",
      "480/480 [==============================] - 5s 10ms/step - loss: 0.1307 - accuracy: 0.9624 - val_loss: 0.0814 - val_accuracy: 0.9751\n",
      "Epoch 5/20\n",
      "480/480 [==============================] - 5s 10ms/step - loss: 0.1172 - accuracy: 0.9658 - val_loss: 0.0854 - val_accuracy: 0.9744\n",
      "Epoch 6/20\n",
      "480/480 [==============================] - 5s 10ms/step - loss: 0.1030 - accuracy: 0.9693 - val_loss: 0.0762 - val_accuracy: 0.9784\n",
      "Epoch 7/20\n",
      "480/480 [==============================] - 5s 10ms/step - loss: 0.0921 - accuracy: 0.9727 - val_loss: 0.0790 - val_accuracy: 0.9783\n",
      "Epoch 8/20\n",
      "480/480 [==============================] - 5s 10ms/step - loss: 0.0863 - accuracy: 0.9744 - val_loss: 0.0733 - val_accuracy: 0.9787\n",
      "Epoch 9/20\n",
      "480/480 [==============================] - 5s 10ms/step - loss: 0.0798 - accuracy: 0.9754 - val_loss: 0.0719 - val_accuracy: 0.9801\n",
      "Epoch 10/20\n",
      "480/480 [==============================] - 5s 10ms/step - loss: 0.0715 - accuracy: 0.9788 - val_loss: 0.0702 - val_accuracy: 0.9800\n",
      "Epoch 11/20\n",
      "480/480 [==============================] - 5s 10ms/step - loss: 0.0677 - accuracy: 0.9798 - val_loss: 0.0619 - val_accuracy: 0.9828\n",
      "Epoch 12/20\n",
      "480/480 [==============================] - 5s 10ms/step - loss: 0.0691 - accuracy: 0.9795 - val_loss: 0.0640 - val_accuracy: 0.9820\n",
      "Epoch 13/20\n",
      "480/480 [==============================] - 5s 10ms/step - loss: 0.0610 - accuracy: 0.9826 - val_loss: 0.0703 - val_accuracy: 0.9820\n",
      "Epoch 14/20\n",
      "480/480 [==============================] - 5s 10ms/step - loss: 0.0589 - accuracy: 0.9831 - val_loss: 0.0626 - val_accuracy: 0.9818\n",
      "Epoch 15/20\n",
      "480/480 [==============================] - 5s 10ms/step - loss: 0.0533 - accuracy: 0.9839 - val_loss: 0.0664 - val_accuracy: 0.9829\n",
      "Epoch 16/20\n",
      "480/480 [==============================] - 5s 10ms/step - loss: 0.0519 - accuracy: 0.9843 - val_loss: 0.0761 - val_accuracy: 0.9796\n",
      "Epoch 17/20\n",
      "480/480 [==============================] - 5s 10ms/step - loss: 0.0511 - accuracy: 0.9849 - val_loss: 0.0700 - val_accuracy: 0.9824\n",
      "Epoch 18/20\n",
      "480/480 [==============================] - 5s 10ms/step - loss: 0.0503 - accuracy: 0.9849 - val_loss: 0.0702 - val_accuracy: 0.9814\n",
      "Epoch 19/20\n",
      "480/480 [==============================] - 5s 10ms/step - loss: 0.0461 - accuracy: 0.9864 - val_loss: 0.0691 - val_accuracy: 0.9823\n",
      "Epoch 20/20\n",
      "480/480 [==============================] - 5s 10ms/step - loss: 0.0439 - accuracy: 0.9866 - val_loss: 0.0767 - val_accuracy: 0.9812\n"
     ]
    }
   ],
   "source": [
    "history = model4.fit(x_train,y_train,\n",
    "                    batch_size = batch_size,\n",
    "                    epochs= training_epochs,\n",
    "                    validation_data= (x_cv,y_cv))"
   ]
  },
  {
   "cell_type": "code",
   "execution_count": 41,
   "id": "e982111b-84a7-4e74-9f83-301b3efa1cd8",
   "metadata": {},
   "outputs": [
    {
     "name": "stdout",
     "output_type": "stream",
     "text": [
      "50/50 [==============================] - 0s 5ms/step\n"
     ]
    },
    {
     "data": {
      "text/html": [
       "<div>\n",
       "<style scoped>\n",
       "    .dataframe tbody tr th:only-of-type {\n",
       "        vertical-align: middle;\n",
       "    }\n",
       "\n",
       "    .dataframe tbody tr th {\n",
       "        vertical-align: top;\n",
       "    }\n",
       "\n",
       "    .dataframe thead th {\n",
       "        text-align: right;\n",
       "    }\n",
       "</style>\n",
       "<table border=\"1\" class=\"dataframe\">\n",
       "  <thead>\n",
       "    <tr style=\"text-align: right;\">\n",
       "      <th></th>\n",
       "      <th>ImageId</th>\n",
       "      <th>Label</th>\n",
       "    </tr>\n",
       "  </thead>\n",
       "  <tbody>\n",
       "    <tr>\n",
       "      <th>0</th>\n",
       "      <td>1</td>\n",
       "      <td>7</td>\n",
       "    </tr>\n",
       "    <tr>\n",
       "      <th>1</th>\n",
       "      <td>2</td>\n",
       "      <td>2</td>\n",
       "    </tr>\n",
       "    <tr>\n",
       "      <th>2</th>\n",
       "      <td>3</td>\n",
       "      <td>1</td>\n",
       "    </tr>\n",
       "    <tr>\n",
       "      <th>3</th>\n",
       "      <td>4</td>\n",
       "      <td>0</td>\n",
       "    </tr>\n",
       "    <tr>\n",
       "      <th>4</th>\n",
       "      <td>5</td>\n",
       "      <td>4</td>\n",
       "    </tr>\n",
       "  </tbody>\n",
       "</table>\n",
       "</div>"
      ],
      "text/plain": [
       "   ImageId  Label\n",
       "0        1      7\n",
       "1        2      2\n",
       "2        3      1\n",
       "3        4      0\n",
       "4        5      4"
      ]
     },
     "execution_count": 41,
     "metadata": {},
     "output_type": "execute_result"
    }
   ],
   "source": [
    "test_pred = pd.DataFrame(model4.predict(x_test,batch_size=200))\n",
    "test_pred = pd.DataFrame(test_pred.idxmax(axis = 1))\n",
    "test_pred.index.name = 'ImageId'\n",
    "test_pred = test_pred.rename(columns= {0:'Label'}).reset_index()\n",
    "test_pred['ImageId'] = test_pred['ImageId'] + 1\n",
    "\n",
    "test_pred.head()"
   ]
  },
  {
   "cell_type": "code",
   "execution_count": 42,
   "id": "0d72b138-8034-4cdb-a150-118ceac75e63",
   "metadata": {},
   "outputs": [],
   "source": [
    "test_pred.to_csv('mnist_submissio', index = False)"
   ]
  },
  {
   "cell_type": "code",
   "execution_count": null,
   "id": "049bdac3-28c1-4266-99c4-a9c2bc7017dd",
   "metadata": {},
   "outputs": [],
   "source": []
  }
 ],
 "metadata": {
  "kernelspec": {
   "display_name": "virtualenv",
   "language": "python",
   "name": "virtualenv"
  },
  "language_info": {
   "codemirror_mode": {
    "name": "ipython",
    "version": 3
   },
   "file_extension": ".py",
   "mimetype": "text/x-python",
   "name": "python",
   "nbconvert_exporter": "python",
   "pygments_lexer": "ipython3",
   "version": "3.11.5"
  }
 },
 "nbformat": 4,
 "nbformat_minor": 5
}
