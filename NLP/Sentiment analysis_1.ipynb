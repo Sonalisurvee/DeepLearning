{
 "cells": [
  {
   "cell_type": "code",
   "execution_count": 2,
   "id": "c30bf378-9b1e-4801-8ce3-ad2032353de1",
   "metadata": {},
   "outputs": [],
   "source": [
    "import textblob\n",
    "import newspaper\n",
    "\n",
    "# textblob - library for sentimental analysis\n",
    "# artical - library to get news articls"
   ]
  },
  {
   "cell_type": "code",
   "execution_count": 3,
   "id": "8c6ba1f6-61ea-4531-b4d3-8ea239ccb1a2",
   "metadata": {},
   "outputs": [],
   "source": [
    "from textblob import TextBlob\n",
    "from newspaper import Article"
   ]
  },
  {
   "cell_type": "code",
   "execution_count": 4,
   "id": "23746036-4c4a-4071-b619-8ae8726b6368",
   "metadata": {},
   "outputs": [],
   "source": [
    "url = \"https://en.wikipedia.org/wiki/india\"\n",
    "# url = \"https://www.cnbc.com/2023/07/13/stock-market-today-live-updates.html\"\n",
    "# url = \"https://www.cnbc.com/2020/04/22/recession-depth-will-be-much-worse-than-2007-2009-lakshman-achuthan.html\"\n",
    "# url = \"https://www.cnbc.com/2023/09/08/this-is-how-much-money-retailers-are-losing-to-shrink-retail-theft.html\"\n",
    "url = \"https://www.ndtv.com/mumbai-news/man-arrested-for-air-hostess-rupal-ogreys-murder-found-dead-in-mumbai-police-custody-4370513\"\n",
    "artical = Article(url)\n",
    "\n",
    "# obj to get the artical into the script"
   ]
  },
  {
   "cell_type": "code",
   "execution_count": 5,
   "id": "19ece04c-61cd-4e86-8921-7f8fbc56c4f5",
   "metadata": {},
   "outputs": [],
   "source": [
    "artical.download()\n",
    "artical.parse()\n",
    "artical.nlp()\n",
    "\n",
    "# download - to get the artical into the script[downloads the HTML content of the web page in URL. It fetches the web page's source code.]\n",
    "# parse - to make the artical readable nd html ou tof the text[This method parses the downloaded web page to extract the main content,\n",
    "#         including the article title, author, publication date, and the actual article text. \n",
    "#         It also extracts any metadata and additional information from the page.]\n",
    "# nlp - preparnig artical for nlp[This method applies NLP techniques to the parsed article.\n",
    "#       It performs tasks such as keyword extraction, summarization, and sentiment analysis]"
   ]
  },
  {
   "cell_type": "code",
   "execution_count": 6,
   "id": "1cfcb40f-e9ca-4ac6-9b56-78e7758bd172",
   "metadata": {},
   "outputs": [
    {
     "name": "stdout",
     "output_type": "stream",
     "text": [
      "Rupal Ogrey, 25, was found dead with her throat slit late Sunday night in a rented flat in MumbaiA 40-year-old man, who was arrested for allegedly killing 25-year-old air hostess Rupal Ogrey, was found dead in Mumbai police's custody in the early hours of the morning today, an official said.\n",
      "The accused, Vikram Athwal, was found hanging using a pair of pants as a noose inside the toilet of Andheri police station, he said.\n",
      "Rupal Ogrey, 25, was found dead with her throat slit late Sunday night in a rented flat in Marol area of suburban Andheri.\n",
      "Vikram Athwal, who was doing housekeeping work over the last one year in the residential society where the victim lived, was arrested on Monday on the charge of killing her.\n",
      "According to police, Vikram Athwal was married and had two daughters.\n"
     ]
    }
   ],
   "source": [
    "# text = artical.text\n",
    "# print(text)\n",
    "# entire content in the website\n",
    "\n",
    "text = artical.summary\n",
    "print(text)\n",
    "\n",
    "# focus on main content"
   ]
  },
  {
   "cell_type": "code",
   "execution_count": 8,
   "id": "bf1eac50-7c07-4008-8532-4a19435af57a",
   "metadata": {},
   "outputs": [
    {
     "name": "stdout",
     "output_type": "stream",
     "text": [
      "-0.07916666666666665\n"
     ]
    }
   ],
   "source": [
    "blob = TextBlob(text)\n",
    "sentiment =  blob.sentiment.polarity\n",
    "print(sentiment)"
   ]
  },
  {
   "cell_type": "code",
   "execution_count": null,
   "id": "a50c04e9-9802-463d-8a78-0700929b492e",
   "metadata": {},
   "outputs": [],
   "source": [
    "# artical obj was used to get the clean summary of the text\n",
    "\n",
    "# blob = Textblob(text) - we r passing string here not the artical obj\n",
    "# sentiment =  blob.sentiment.polarity - score from -1 to 1 ,1 is pos adn -1 is neg\n"
   ]
  }
 ],
 "metadata": {
  "kernelspec": {
   "display_name": "Python 3 (ipykernel)",
   "language": "python",
   "name": "python3"
  },
  "language_info": {
   "codemirror_mode": {
    "name": "ipython",
    "version": 3
   },
   "file_extension": ".py",
   "mimetype": "text/x-python",
   "name": "python",
   "nbconvert_exporter": "python",
   "pygments_lexer": "ipython3",
   "version": "3.11.5"
  }
 },
 "nbformat": 4,
 "nbformat_minor": 5
}
